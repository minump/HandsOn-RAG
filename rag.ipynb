{
 "cells": [
  {
   "cell_type": "markdown",
   "metadata": {},
   "source": [
    "# RAG - Retrieval-Augmented Generation"
   ]
  },
  {
   "cell_type": "markdown",
   "metadata": {},
   "source": [
    "# Recap\n",
    "\n",
    "![With and Without RAG](notebook_images/rag-with-without.png \"With and Without RAG\") \n",
    "\n",
    "![RAG](notebook_images/rag-before-after.png \"RAG\")"
   ]
  },
  {
   "cell_type": "markdown",
   "metadata": {},
   "source": [
    "# RAG\n",
    "\n",
    "## Retrieval\n",
    "- Setup a knowledge base \n",
    "- Retrieve documents relevant to the user query\n",
    "\n",
    "## Generation\n",
    "- Using LLMs\n",
    "- Use the retrieved documents as context\n"
   ]
  },
  {
   "cell_type": "code",
   "execution_count": 39,
   "metadata": {},
   "outputs": [],
   "source": [
    "# basic imports\n",
    "import os\n",
    "import json\n",
    "import logging\n",
    "import sys\n",
    "import pandas as pd\n",
    "\n",
    "from dotenv import load_dotenv\n",
    "load_dotenv(override=True)\n",
    "\n",
    "# create and configure logger\n",
    "logging.basicConfig(level=logging.INFO, datefmt='%Y-%m-%dT%H:%M:%S',\n",
    "                    format='%(asctime)-15s.%(msecs)03dZ %(levelname)-7s : %(name)s - %(message)s',\n",
    "                    handlers=[logging.StreamHandler(sys.stdout)]\n",
    "                    )\n",
    "# create log object with current module name\n",
    "log = logging.getLogger(__name__)"
   ]
  },
  {
   "cell_type": "markdown",
   "metadata": {},
   "source": [
    "## RAG - *Retrieval*-Augmented Generation\n",
    "\n",
    "### Knowledge base\n",
    "- Create a knowledge base with \"your\" data\n",
    "\n",
    "#### Retrieval steps\n",
    "1. Prepare data \n",
    "2. Create a database and insert data\n",
    "3. Search the database and retrieve relevant documents according to the search query."
   ]
  },
  {
   "cell_type": "markdown",
   "metadata": {},
   "source": [
    "### 1. Prepare data\n",
    "- Load data from different sources\n",
    "- Will be using some polymer chemistry research papers (in `docs` folder).\n",
    "\n",
    "PS : check the licensing agreement of the docs before doing any GenAI techniques. For testing purposes, with a small group of people, this should be ok."
   ]
  },
  {
   "cell_type": "markdown",
   "metadata": {},
   "source": [
    "### 1.1 Data Loaders\n",
    "- Langchain provides different [data loaders](https://python.langchain.com/docs/how_to/#document-loaders) for different file types\n",
    "- Eg: Langchain CSVLoader is essentially a wrapper for Python [csv.DictReader class](https://docs.python.org/3/library/csv.html#csv.DictReader)\n",
    "- Data is loaded into Langchain Document object [format](https://api.python.langchain.com/en/latest/documents/langchain_core.documents.base.Document.html)\n",
    "\n",
    "Code loads all files in a directory. For now, we have only PDF files.\n",
    "\n"
   ]
  },
  {
   "cell_type": "code",
   "execution_count": 2,
   "metadata": {},
   "outputs": [],
   "source": [
    "# data loaders\n",
    "from langchain_community.document_loaders import CSVLoader, DataFrameLoader, PyPDFLoader, Docx2txtLoader, UnstructuredRSTLoader, DirectoryLoader\n",
    "\n",
    "\n",
    "class DataLoaders:\n",
    "    \"\"\"\n",
    "    various data loaders\n",
    "    loads all data in a directory\n",
    "    \"\"\"\n",
    "    def __init__(self, data_dir_path):\n",
    "        self.data_dir_path = data_dir_path\n",
    "    \n",
    "    def csv_loader(self):\n",
    "        csv_loader_kwargs = {\n",
    "                            \"csv_args\":{\n",
    "                                \"delimiter\": \",\",\n",
    "                                \"quotechar\": '\"',\n",
    "                                },\n",
    "                            }\n",
    "        dir_csv_loader = DirectoryLoader(self.data_dir_path, glob=\"**/*.csv\", use_multithreading=True,\n",
    "                                    loader_cls=CSVLoader, \n",
    "                                    loader_kwargs=csv_loader_kwargs,\n",
    "                                    )\n",
    "        return dir_csv_loader\n",
    "    \n",
    "    def pdf_loader(self):\n",
    "        dir_pdf_loader = DirectoryLoader(self.data_dir_path, glob=\"**/*.pdf\",\n",
    "                                    loader_cls=PyPDFLoader,\n",
    "                                    )\n",
    "        return dir_pdf_loader\n",
    "    \n",
    "    def word_loader(self):\n",
    "        dir_word_loader = DirectoryLoader(self.data_dir_path, glob=\"**/*.docx\",\n",
    "                                    loader_cls=Docx2txtLoader,\n",
    "                                    )\n",
    "        return dir_word_loader\n",
    "    \n",
    "    def rst_loader(self):\n",
    "        rst_loader_kwargs = {\n",
    "                        \"mode\":\"single\"\n",
    "                        }\n",
    "        dir_rst_loader = DirectoryLoader(self.data_dir_path, glob=\"**/*.rst\",\n",
    "                                    loader_cls=UnstructuredRSTLoader, \n",
    "                                    loader_kwargs=rst_loader_kwargs\n",
    "                                    )\n",
    "        return dir_rst_loader\n",
    "    "
   ]
  },
  {
   "cell_type": "code",
   "execution_count": 20,
   "metadata": {},
   "outputs": [
    {
     "name": "stdout",
     "output_type": "stream",
     "text": [
      "2024-11-06T12:11:10.033Z INFO    : __main__ - Loading files from directory data\n"
     ]
    }
   ],
   "source": [
    "# load data\n",
    "data_dir_path =  os.getenv('DATA_DIR_PATH', \"data\")\n",
    "data_loader = DataLoaders(data_dir_path=data_dir_path)\n",
    "log.info(\"Loading files from directory %s\", data_dir_path)\n",
    "dir_csv_loader = data_loader.csv_loader()\n",
    "dir_word_loader = data_loader.word_loader()\n",
    "dir_pdf_loader = data_loader.pdf_loader()\n",
    "dir_rst_loader = data_loader.rst_loader()\n",
    "csv_data = dir_csv_loader.load()\n",
    "word_data = dir_word_loader.load()\n",
    "pdf_data = dir_pdf_loader.load()\n",
    "rst_data = dir_rst_loader.load()"
   ]
  },
  {
   "cell_type": "markdown",
   "metadata": {},
   "source": [
    "### 1.2 Data format\n",
    "- Document class has \n",
    "    - `page_content` : textual content\n",
    "    - `metadata` : metadata about the document. Can be user-defined. \n",
    "        - by default, each file type has its own metadata content\n",
    "        - Eg: PDF file has `source` and `page`\n",
    "\n",
    "![Langchain document class](notebook_images/langchain-document-class.png \"Langchain document class\")"
   ]
  },
  {
   "cell_type": "code",
   "execution_count": 21,
   "metadata": {},
   "outputs": [
    {
     "name": "stdout",
     "output_type": "stream",
     "text": [
      "page_content='www.afm-journal.de© 2020 Wiley-VCH GmbH 2006683 (1 of 9)Full PaPer\n",
      "Direct Ink Writing of Polymer Composite Electrolytes \n",
      "with Enhanced Thermal Conductivities\n",
      "Meng Cheng, Ajaykrishna Ramasubramanian, Md Golam Rasul, Yizhou Jiang, Yifei Yuan, \n",
      "Tara Foroozan, Ramasubramonian Deivanayagam, Mahmoud Tamadoni Saray, \n",
      "Ramin Rojaee, Boao Song, Vitaliy Robert Yurkiv, Yayue Pan, Farzad Mashayek, \n",
      "and Reza Shahbazian-Yassar*\n",
      "Proper distribution of thermally conductive nanomaterials in polymer \n",
      "batteries offers new opportunities to mitigate performance degradations \n",
      "associated with local hot spots and safety concerns in batteries. Herein, a \n",
      "direct ink writing (DIW) method is utilized to fabricate polyethylene oxide (PEO) composite polymers electrolytes (CPE) embedded with silane-treated \n",
      "hexagonal boron nitride (S-hBN) platelets and free of any volatile organic \n",
      "solvents. It is observed that the S-hBN platelets are well aligned in the printed CPE during the DIW process. The in-plane thermal conductivity  \n",
      "of the printed CPE with the aligned S-hBN platelets is 1.031 W \n",
      "−1 K−1, which \n",
      "is about 1.7 times that of the pristine CPE with the randomly dispersed \n",
      "S-hBN platelets (0.612 W −1 K−1). Thermal imaging shows that the peak tem-\n",
      "perature (° C) of the printed electrolytes is 24.2% lower than that of the CPE \n",
      "without S-hBN, and 10.6% lower than that of the CPE with the randomly \n",
      "dispersed S-hBN, indicating a superior thermal transport property. Lithium-ion half-cells made with the printed CPE and LiFePO\n",
      "4 cathode displayed \n",
      "high specific discharge capacity of 146.0 mAh g−1 and stable Coulombic \n",
      "efficiency of 91% for 100 cycles at room temperature. This work facilitates \n",
      "the development of printable thermally-conductive polymers for safer bat-\n",
      "tery operations.\n",
      "DOI: 10.1002/adfm.202006683M. Cheng, Dr. A. Ramasubramanian, M. G. Rasul, Y . Jiang, Dr. Y . Yuan,  \n",
      "Dr. T. Foroozan, Dr. R. Deivanayagam, M. Tamadoni Saray, Dr. R. Rojaee,  \n",
      "Dr. B. Song, Dr. V. R. Yurkiv, Prof. Y . Pan, Prof. F. Mashayek,  Prof. R. Shahbazian-YassarDepartment of Mechanical and Industrial EngineeringUniversity of Illinois at ChicagoChicago, IL 60607, USAE-mail: rsyassar@uic.edu\n",
      "The ORCID identification number(s) for the author(s) of this article can be found under https://doi.org/10.1002/adfm.202006683.have posed significant challenges.[4,5] The \n",
      "formation of localized heat spots can lead \n",
      "to thermal runaway in batteries and safety \n",
      "concerns.[6–8]\n",
      "Compared with carbonate-based liquid \n",
      "electrolytes, polymer electrolytes gener -\n",
      "ally present higher electrochemical sta-bility, better mechanical properties, and \n",
      "increased flexibility.\n",
      "[9] While polymer elec-\n",
      "trolytes are considered to be a safer option to replace the organic liquid electrolytes in \n",
      "Li-ion batteries, the low thermal conduc-\n",
      "tivity of polymers poses challenges to the heat dissipation.\n",
      "[9–11] Chen et  al. reported \n",
      "that due to the low thermal conductivity of polymer electrolytes, the thermal gradient \n",
      "increased in the cell stack.\n",
      "[12,13] As a result, \n",
      "the polymer electrolytes can be melted \n",
      "down when the battery temperature rises \n",
      "to the polymer melting point and causes a \n",
      "potential internal short circuit.[14]\n",
      "Hexagonal boron nitride (hBN) mate-\n",
      "rials with outstanding thermal conductivity (up to 2000 W m\n",
      "−1 K−1) are considered \n",
      "to be promising fillers to improve the \n",
      "thermal conductivity of polymer separators and electrolytes.[15,16]  \n",
      "Vishwakarma et  al. presented a polyvinylidene fluoride (PVdF) gel polymer electrolytes with BN/Al\n",
      "2O3 ceramic nano/micropar -\n",
      "ticles.[16] The thermal conductivity of the electrolytes could be \n",
      "up to 1.2 W m−1 K−1, which was 13 times higher than the inac-\n",
      "tivated PVdF membrane. However, the internal resistance of the electrolytes also increased since the volume fraction of the elec-\n",
      "trolyte mixture was reduced by the high loading of additions. \n",
      "The polymer separator and electrolytes with improved thermal conductivity have been employed in Li-ion batteries to promote heat dissipation and reduce thermal stress in batteries.\n",
      "[17,18] Hu’s \n",
      "group reported a thermally conductive separator coated with boron-nitride nanosheets.\n",
      "[17] The temperature spike of BN-coated \n",
      "separator was ≈ 32% lower than that of the pristine separator at \n",
      "the hotspot. The same group further fabricated PVdF-hexafluor -\n",
      "opropylene separator with BN nanosheets via an extrusion-based printing technique.\n",
      "[18] Compared with the commercial separator, \n",
      "the maximum temperature of the printed BN-separator was lower, suggesting that the BN-separator provided a more homo-\n",
      "genous temperature distribution.1. Introduction\n",
      "In the past two decades, lithium-ion batteries have successfully \n",
      "penetrated the market of electric vehicles and portable electronics, mainly owing to their high-power density, long cycle life, and low \n",
      "self-discharge properties.\n",
      "[1–3] However, the safety concerns of \n",
      "the conventional Li-ion batteries with organic liquid electrolytes \n",
      "Adv. Funct. Mater. 2021, 31, 2006683\n",
      "' metadata={'source': 'data/Adv Funct Materials - 2020 - Cheng - Direct Ink Writing of Polymer Composite Electrolytes with Enhanced Thermal.pdf', 'page': 0}\n"
     ]
    }
   ],
   "source": [
    "for doc in pdf_data:\n",
    "    print(doc)\n",
    "    break"
   ]
  },
  {
   "cell_type": "code",
   "execution_count": 25,
   "metadata": {},
   "outputs": [
    {
     "name": "stdout",
     "output_type": "stream",
     "text": [
      "Number of PDF documents:  125\n"
     ]
    }
   ],
   "source": [
    "print(\"Number of PDF documents: \", len(pdf_data))"
   ]
  },
  {
   "cell_type": "markdown",
   "metadata": {},
   "source": [
    "### 1.3 Format into text and metadata\n",
    "- Convert data to a list of texts and metadata \n",
    "- Only textual content is required for search implementation\n",
    "- Metadata can be used for filtering the data\n"
   ]
  },
  {
   "cell_type": "code",
   "execution_count": 22,
   "metadata": {},
   "outputs": [],
   "source": [
    "# get text and metadata from the data\n",
    "def get_text_metadatas(csv_data=None, pdf_data=None, word_data=None, rst_data=None):\n",
    "    \"\"\"\n",
    "    Each document class has page_content and metadata properties\n",
    "    Separate text and metadata content from Document class\n",
    "    Have custom metadata if needed\n",
    "    \"\"\"\n",
    "    csv_texts = [doc.page_content for doc in csv_data]\n",
    "    # custom metadata\n",
    "    csv_metadatas = [{'source': doc.metadata['source'], 'row_page': doc.metadata['row']} for doc in csv_data]   # metadata={'source': 'filename.csv', 'row': 0}\n",
    "    pdf_texts = [doc.page_content for doc in pdf_data]\n",
    "    pdf_metadatas = [{'source': doc.metadata['source'], 'row_page': doc.metadata['page']} for doc in pdf_data]  # metadata={'source': 'data/filename.pdf', 'page': 8}\n",
    "    word_texts = [doc.page_content for doc in word_data]\n",
    "    word_metadatas = [{'source': doc.metadata['source'], 'row_page': ''} for doc in word_data] \n",
    "    rst_texts = [doc.page_content for doc in rst_data]\n",
    "    rst_metadatas = [{'source': doc.metadata['source'], 'row_page': ''} for doc in rst_data]         # metadata={'source': 'docs/images/architecture/index.rst'}\n",
    "\n",
    "    texts = csv_texts + pdf_texts + word_texts + rst_texts\n",
    "    metadatas = csv_metadatas + pdf_metadatas + word_metadatas + rst_metadatas\n",
    "    return texts, metadatas\n",
    "\n",
    "\n",
    "texts , metadatas = get_text_metadatas(csv_data, pdf_data, word_data, rst_data)"
   ]
  },
  {
   "cell_type": "code",
   "execution_count": 34,
   "metadata": {},
   "outputs": [
    {
     "name": "stdout",
     "output_type": "stream",
     "text": [
      "Number of PDF texts:  125\n",
      "Number of PDF metadata:  125\n"
     ]
    }
   ],
   "source": [
    "print(\"Number of PDF texts: \", len(texts))\n",
    "print(\"Number of PDF metadata: \", len(metadatas))"
   ]
  },
  {
   "cell_type": "markdown",
   "metadata": {},
   "source": [
    "### 1.4 Chunking\n",
    "\n",
    "![Chunk Optimization](notebook_images/rag-chunking1.png \"Chunk Optimization\")"
   ]
  },
  {
   "cell_type": "markdown",
   "metadata": {},
   "source": [
    "### 1.4 Chunking\n",
    "- Split texts into chunks\n",
    "- Return a list of document chunks (list of langchain [document class](https://api.python.langchain.com/en/latest/documents/langchain_core.documents.base.Document.html))"
   ]
  },
  {
   "cell_type": "code",
   "execution_count": 23,
   "metadata": {},
   "outputs": [],
   "source": [
    "from langchain.text_splitter import RecursiveCharacterTextSplitter\n",
    "from langchain.schema import Document\n",
    "from typing import List\n",
    "\n",
    "text_splitter = RecursiveCharacterTextSplitter.from_tiktoken_encoder(\n",
    "        chunk_size=1000,\n",
    "        chunk_overlap=200,\n",
    "        separators=[\n",
    "            \"\\n\\n\", \"\\n\", \". \", \" \", \"\"\n",
    "        ]  # try to split on paragraphs... fallback to sentences, then chars, ensure we always fit in context window\n",
    "    )\n",
    "\n",
    "docs: List[Document] = text_splitter.create_documents(texts=texts, metadatas=metadatas)\n"
   ]
  },
  {
   "cell_type": "code",
   "execution_count": 24,
   "metadata": {},
   "outputs": [
    {
     "name": "stdout",
     "output_type": "stream",
     "text": [
      "page_content='www.afm-journal.de© 2020 Wiley-VCH GmbH 2006683 (1 of 9)Full PaPer\n",
      "Direct Ink Writing of Polymer Composite Electrolytes \n",
      "with Enhanced Thermal Conductivities\n",
      "Meng Cheng, Ajaykrishna Ramasubramanian, Md Golam Rasul, Yizhou Jiang, Yifei Yuan, \n",
      "Tara Foroozan, Ramasubramonian Deivanayagam, Mahmoud Tamadoni Saray, \n",
      "Ramin Rojaee, Boao Song, Vitaliy Robert Yurkiv, Yayue Pan, Farzad Mashayek, \n",
      "and Reza Shahbazian-Yassar*\n",
      "Proper distribution of thermally conductive nanomaterials in polymer \n",
      "batteries offers new opportunities to mitigate performance degradations \n",
      "associated with local hot spots and safety concerns in batteries. Herein, a \n",
      "direct ink writing (DIW) method is utilized to fabricate polyethylene oxide (PEO) composite polymers electrolytes (CPE) embedded with silane-treated \n",
      "hexagonal boron nitride (S-hBN) platelets and free of any volatile organic \n",
      "solvents. It is observed that the S-hBN platelets are well aligned in the printed CPE during the DIW process. The in-plane thermal conductivity  \n",
      "of the printed CPE with the aligned S-hBN platelets is 1.031 W \n",
      "−1 K−1, which \n",
      "is about 1.7 times that of the pristine CPE with the randomly dispersed \n",
      "S-hBN platelets (0.612 W −1 K−1). Thermal imaging shows that the peak tem-\n",
      "perature (° C) of the printed electrolytes is 24.2% lower than that of the CPE \n",
      "without S-hBN, and 10.6% lower than that of the CPE with the randomly \n",
      "dispersed S-hBN, indicating a superior thermal transport property. Lithium-ion half-cells made with the printed CPE and LiFePO\n",
      "4 cathode displayed \n",
      "high specific discharge capacity of 146.0 mAh g−1 and stable Coulombic \n",
      "efficiency of 91% for 100 cycles at room temperature. This work facilitates \n",
      "the development of printable thermally-conductive polymers for safer bat-\n",
      "tery operations.\n",
      "DOI: 10.1002/adfm.202006683M. Cheng, Dr. A. Ramasubramanian, M. G. Rasul, Y . Jiang, Dr. Y . Yuan,  \n",
      "Dr. T. Foroozan, Dr. R. Deivanayagam, M. Tamadoni Saray, Dr. R. Rojaee,  \n",
      "Dr. B. Song, Dr. V. R. Yurkiv, Prof. Y . Pan, Prof. F. Mashayek,  Prof. R. Shahbazian-YassarDepartment of Mechanical and Industrial EngineeringUniversity of Illinois at ChicagoChicago, IL 60607, USAE-mail: rsyassar@uic.edu\n",
      "The ORCID identification number(s) for the author(s) of this article can be found under https://doi.org/10.1002/adfm.202006683.have posed significant challenges.[4,5] The \n",
      "formation of localized heat spots can lead \n",
      "to thermal runaway in batteries and safety \n",
      "concerns.[6–8]\n",
      "Compared with carbonate-based liquid \n",
      "electrolytes, polymer electrolytes gener -\n",
      "ally present higher electrochemical sta-bility, better mechanical properties, and \n",
      "increased flexibility.\n",
      "[9] While polymer elec-\n",
      "trolytes are considered to be a safer option to replace the organic liquid electrolytes in \n",
      "Li-ion batteries, the low thermal conduc-\n",
      "tivity of polymers poses challenges to the heat dissipation.\n",
      "[9–11] Chen et  al. reported \n",
      "that due to the low thermal conductivity of polymer electrolytes, the thermal gradient \n",
      "increased in the cell stack.\n",
      "[12,13] As a result, \n",
      "the polymer electrolytes can be melted \n",
      "down when the battery temperature rises \n",
      "to the polymer melting point and causes a \n",
      "potential internal short circuit.[14]\n",
      "Hexagonal boron nitride (hBN) mate-\n",
      "rials with outstanding thermal conductivity (up to 2000 W m\n",
      "−1 K−1) are considered \n",
      "to be promising fillers to improve the' metadata={'source': 'data/Adv Funct Materials - 2020 - Cheng - Direct Ink Writing of Polymer Composite Electrolytes with Enhanced Thermal.pdf', 'row_page': 0}\n",
      "Number of documents:  265\n"
     ]
    }
   ],
   "source": [
    "print(docs[0])"
   ]
  },
  {
   "cell_type": "code",
   "execution_count": null,
   "metadata": {},
   "outputs": [],
   "source": [
    "print(\"Number of documents: \", len(docs))"
   ]
  },
  {
   "cell_type": "markdown",
   "metadata": {},
   "source": [
    "### 1.5 Vector Embeddings\n",
    "![representing langugage](notebook_images/representing-language.png \"Representing langugage\")\n",
    "\n",
    "Image source: MIT Deep Learning course [slides](https://introtodeeplearning.com/slides/6S191_MIT_DeepLearning_L2.pdf)\n",
    "\n",
    "#### Embeddings\n",
    "- Vector representation of text. \n",
    "- Individual words are represented has real-valued vectors.\n",
    "- Captures semantic meaning and relationships of the text in a high-dimensional space. \n",
    "- Words that have similar meaning have similar representation.\n",
    "- Eg : [GloVE](https://nlp.stanford.edu/projects/glove/), [MTEB leaderboard](https://huggingface.co/spaces/mteb/leaderboard) in HF.\n",
    "\n",
    "![vector embeddings](notebook_images/vectors.png \"Vector embeddings\")\n",
    "\n",
    "We will be using [OpenAI text embedding model](https://platform.openai.com/docs/guides/embeddings/embedding-models) with 8191 vector dimension.\n"
   ]
  },
  {
   "cell_type": "code",
   "execution_count": 8,
   "metadata": {},
   "outputs": [],
   "source": [
    "# embeddings \n",
    "from langchain_openai import OpenAIEmbeddings\n",
    "\n",
    "embeddings = OpenAIEmbeddings()"
   ]
  },
  {
   "cell_type": "markdown",
   "metadata": {},
   "source": [
    "### RAG - Retrieval Steps\n",
    "\n",
    "~~1. Prepare data~~\n",
    "\n",
    "2. Create a database and insert data\n",
    "\n",
    "3. Search the database and retrieve relevant documents according to the search query.\n",
    "\n"
   ]
  },
  {
   "cell_type": "markdown",
   "metadata": {},
   "source": [
    "### RAG - Retrieval Steps\n",
    "\n",
    "### 2. Create a database and insert data\n",
    "\n",
    "**Vector database** (Beginners [blog 1](https://medium.com/data-and-beyond/vector-databases-a-beginners-guide-b050cbbe9ca0), Pinecone [blog 2](https://www.pinecone.io/learn/vector-database/))\n",
    "\n",
    "- Efficiently store, index and search high-dimensional data\n",
    "- Store data as vector embeddings\n",
    "- Optimized for fast retrieval and similarity search\n",
    "- Calculate the distance between user query embedding and other data points\n",
    "\n",
    "![Vector DB](notebook_images/vectorDB-comparison.png \"Vector DB\")\n"
   ]
  },
  {
   "cell_type": "markdown",
   "metadata": {},
   "source": [
    "## RAG - *Retrieval*-Augmented Generation\n",
    "\n",
    "### 2.1 Vector DB Retrieval\n",
    "\n",
    "![Vector DB Retrieval](notebook_images/vectordb-retrieval.png \"Vector DB Retrieval\")"
   ]
  },
  {
   "cell_type": "markdown",
   "metadata": {},
   "source": [
    "### 2.2 Vector Store\n",
    "\n",
    "- We will use [Qdrant](https://qdrant.tech/) vector store for this example\n",
    "- For today we will use local memory as the vector store\n",
    "- Qdrant has a docker image that can be used to create a vector store and hosted remotely\n",
    "\n",
    "Eg: [Qdrant docker container running locally](http://localhost:6333/dashboard)\n",
    "\n",
    "- Blog post on vector stores [link](https://medium.com/google-cloud/vector-databases-are-all-the-rage-872c888fa348)"
   ]
  },
  {
   "cell_type": "markdown",
   "metadata": {},
   "source": [
    "### 2.2 Vector Store\n",
    "\n",
    "![Inserting into DB](notebook_images/inserting-db.png \"Inserting into DB\")\n",
    "\n",
    "Source Credits : [Blog.demir](https://blog.demir.io/hands-on-with-rag-step-by-step-guide-to-integrating-retrieval-augmented-generation-in-llms-ac3cb075ab6f)\n"
   ]
  },
  {
   "cell_type": "code",
   "execution_count": 26,
   "metadata": {},
   "outputs": [
    {
     "name": "stdout",
     "output_type": "stream",
     "text": [
      "2024-11-06T12:12:37.962Z INFO    : httpx - HTTP Request: POST https://api.openai.com/v1/embeddings \"HTTP/1.1 200 OK\"\n",
      "2024-11-06T12:12:39.865Z INFO    : httpx - HTTP Request: POST https://api.openai.com/v1/embeddings \"HTTP/1.1 200 OK\"\n",
      "2024-11-06T12:12:41.871Z INFO    : httpx - HTTP Request: POST https://api.openai.com/v1/embeddings \"HTTP/1.1 200 OK\"\n",
      "2024-11-06T12:12:43.316Z INFO    : httpx - HTTP Request: POST https://api.openai.com/v1/embeddings \"HTTP/1.1 200 OK\"\n",
      "2024-11-06T12:12:44.658Z INFO    : httpx - HTTP Request: POST https://api.openai.com/v1/embeddings \"HTTP/1.1 200 OK\"\n",
      "2024-11-06T12:12:45.392Z INFO    : httpx - HTTP Request: POST https://api.openai.com/v1/embeddings \"HTTP/1.1 200 OK\"\n"
     ]
    }
   ],
   "source": [
    "# creating a qdrant vector store in local memory\n",
    "\n",
    "from langchain_community.vectorstores import Qdrant\n",
    "\n",
    "# qdrant collection name\n",
    "collection_name = os.getenv('QDRANT_COLLECTION_NAME', \"data-collection\")\n",
    "\n",
    "# create vector store in local memory\n",
    "vectorstore = Qdrant.from_documents(\n",
    "    documents=docs,\n",
    "    embedding=embeddings,\n",
    "    location=\":memory:\",  # Local mode with in-memory storage only\n",
    "    collection_name=collection_name,\n",
    "    )"
   ]
  },
  {
   "cell_type": "markdown",
   "metadata": {},
   "source": [
    "### RAG - Retrieval Steps\n",
    "\n",
    "~~1. Prepare data~~\n",
    "\n",
    "~~2. Create a vector store and insert data~~\n",
    "\n",
    "3. Search the vector store and retrieve relevant documents"
   ]
  },
  {
   "cell_type": "markdown",
   "metadata": {},
   "source": [
    "## 3. Retrieve relevant documents\n",
    "Create a retriever from the vector store"
   ]
  },
  {
   "cell_type": "code",
   "execution_count": 27,
   "metadata": {},
   "outputs": [],
   "source": [
    "# Retriever to retrieve relevant snippets\n",
    "retriever = vectorstore.as_retriever()"
   ]
  },
  {
   "cell_type": "markdown",
   "metadata": {},
   "source": [
    "### RAG - Retrieval Steps\n",
    "\n",
    "~~1. Prepare data~~\n",
    "\n",
    "~~2. Create a vector store and insert data~~\n",
    "\n",
    "~~3. Search the vector store and retrieve relevant documents~~"
   ]
  },
  {
   "cell_type": "markdown",
   "metadata": {},
   "source": [
    "## RAG - Retrieval-Augmented *Generation*\n",
    "\n",
    "### LLM\n",
    "\n",
    "- Pre-trained transformer models \n",
    "- Trained to predict the next word (token), given some input text.\n",
    "- Open-source models - HuggingFace [leaderboard](https://huggingface.co/collections/open-llm-leaderboard/llm-leaderboard-best-models-652d6c7965a4619fb5c27a03)\n",
    "\n",
    "- For HandsOn - OpenAI GPT-4o-mini, and Ollama Llama3.2:3.2B model\n",
    "\n",
    "\n",
    "![LLM prompting](notebook_images/rag-prompting.png \"LLM Prompting\")"
   ]
  },
  {
   "cell_type": "markdown",
   "metadata": {},
   "source": [
    "## 4. Call LLM\n",
    "\n",
    "![LLM prompting](notebook_images/rag-prompting.png \"LLM Prompting\")\n",
    "\n",
    "- LilianWeng [blog post](https://lilianweng.github.io/posts/2023-03-15-prompt-engineering/), [medium blog post](https://medium.com/thedeephub/llm-prompt-engineering-for-beginners-what-it-is-and-how-to-get-started-0c1b483d5d4f#:~:text=In%20essence%2C%20a%20prompt%20is,you%20want%20it%20to%20do.) on prompt engineering"
   ]
  },
  {
   "cell_type": "markdown",
   "metadata": {},
   "source": [
    "\n",
    "### 4.1 Prompting\n",
    "\n",
    "- Use [Langchain hub](https://smith.langchain.com/hub) to pull prompts\n",
    "    - easy to share and reuse prompts\n",
    "    - can see what are the popular prompts for specific use cases\n",
    "    - Eg: [rlm/rag-prompt](https://smith.langchain.com/hub/rlm/rag-prompt)\n",
    "\n",
    "![RLM RAG prompt](notebook_images/rlm-rag-prompt.png \"rlm/rag-prompt\")\n",
    "\n",
    "- Use a prompt template [Langchain PromptTemplate](https://api.python.langchain.com/en/latest/prompts/langchain_core.prompts.prompt.PromptTemplate.html) to generate custom prompts\n",
    "    - includes input parameters that can be dynamically changed\n",
    "    \n",
    "```\n",
    "qa_prompt_template = \"\"\"Use the following pieces of context to answer the question at the end. Please follow the following rules:\n",
    "    1. If the question has some initial findings, use that as context.\n",
    "    2. If you don't know the answer, don't try to make up an answer. Just say **I can't find the final answer but you may want to check the following sourcess** and add the source documents as a list.\n",
    "    3. If you find the answer, write the answer in a concise way and add the list of sources that are **directly** used to derive the answer. Exclude the sources that are irrelevant to the final answer.\n",
    "\n",
    "    {context}\n",
    "\n",
    "    Question: {question}\n",
    "    Helpful Answer:\"\"\"\n",
    "\n",
    "rag_chain_prompt = PromptTemplate.from_template(qa_prompt_template) \n",
    "```\n"
   ]
  },
  {
   "cell_type": "code",
   "execution_count": 14,
   "metadata": {},
   "outputs": [],
   "source": [
    "# prompting\n",
    "\n",
    "from langchain import hub\n",
    "prompt = hub.pull(\"rlm/rag-prompt\")"
   ]
  },
  {
   "cell_type": "markdown",
   "metadata": {},
   "source": [
    "## 4.2 Call LLM\n",
    "- We will use \n",
    "    - OpenAI GPT-4o-mini and \n",
    "    - Ollama llama3.2 model (hosted by NCSA)\n",
    "- Each model has its own formats and parameters"
   ]
  },
  {
   "cell_type": "code",
   "execution_count": 28,
   "metadata": {},
   "outputs": [],
   "source": [
    "# formatting the documents as a string before calling the LLM\n",
    "\n",
    "def format_docs(docs):\n",
    "    return \"\\n\\n\".join(doc.page_content for doc in docs)"
   ]
  },
  {
   "cell_type": "markdown",
   "metadata": {},
   "source": [
    "#### Without RAG"
   ]
  },
  {
   "cell_type": "code",
   "execution_count": 16,
   "metadata": {},
   "outputs": [],
   "source": [
    "# call open ai GPT-4o-mini\n",
    "from langchain_openai import ChatOpenAI\n",
    "\n",
    "# create a chat openai model\n",
    "llm: ChatOpenAI = ChatOpenAI(\n",
    "            temperature=0,\n",
    "            model=\"gpt-4o-mini\",\n",
    "            max_retries=500,\n",
    "        )"
   ]
  },
  {
   "cell_type": "code",
   "execution_count": 17,
   "metadata": {},
   "outputs": [
    {
     "name": "stdout",
     "output_type": "stream",
     "text": [
      "2024-11-06T10:06:53.653Z INFO    : httpx - HTTP Request: POST https://api.openai.com/v1/chat/completions \"HTTP/1.1 200 OK\"\n"
     ]
    },
    {
     "data": {
      "text/plain": [
       "AIMessage(content='There is no official \"capital of the world,\" as each country has its own capital city. However, some cities are often referred to as global capitals due to their significant influence in international politics, finance, culture, and diplomacy. Examples include New York City (home to the United Nations), London, and Washington, D.C. Each of these cities plays a crucial role on the world stage, but there is no single city that serves as the capital of the entire world.', response_metadata={'token_usage': {'completion_tokens': 95, 'prompt_tokens': 15, 'total_tokens': 110, 'prompt_tokens_details': {'cached_tokens': 0, 'audio_tokens': 0}, 'completion_tokens_details': {'reasoning_tokens': 0, 'audio_tokens': 0, 'accepted_prediction_tokens': 0, 'rejected_prediction_tokens': 0}}, 'model_name': 'gpt-4o-mini-2024-07-18', 'system_fingerprint': 'fp_0ba0d124f1', 'finish_reason': 'stop', 'logprobs': None}, id='run-78e59ba3-36f9-4689-a8b7-791266b4d593-0', usage_metadata={'input_tokens': 15, 'output_tokens': 95, 'total_tokens': 110})"
      ]
     },
     "execution_count": 17,
     "metadata": {},
     "output_type": "execute_result"
    }
   ],
   "source": [
    "# call GPT4o-mini. \n",
    "# No RAG. Not giving any instructions/context to the LLM.\n",
    "\n",
    "llm.invoke(\"What is the capital of the world?\")\n",
    "\n",
    "# Notice the OpenAI LLM response format: content , metadata"
   ]
  },
  {
   "cell_type": "code",
   "execution_count": 35,
   "metadata": {},
   "outputs": [
    {
     "name": "stdout",
     "output_type": "stream",
     "text": [
      "2024-11-06T16:45:25.718Z INFO    : httpx - HTTP Request: POST https://api.openai.com/v1/chat/completions \"HTTP/1.1 200 OK\"\n"
     ]
    },
    {
     "data": {
      "text/plain": [
       "AIMessage(content='Could you please provide more context or specify what you are referring to? The material used can vary widely depending on the subject, such as construction, clothing, technology, or art.', response_metadata={'token_usage': {'completion_tokens': 36, 'prompt_tokens': 13, 'total_tokens': 49, 'prompt_tokens_details': {'cached_tokens': 0, 'audio_tokens': 0}, 'completion_tokens_details': {'reasoning_tokens': 0, 'audio_tokens': 0, 'accepted_prediction_tokens': 0, 'rejected_prediction_tokens': 0}}, 'model_name': 'gpt-4o-mini-2024-07-18', 'system_fingerprint': 'fp_9b78b61c52', 'finish_reason': 'stop', 'logprobs': None}, id='run-eab6bc66-bb48-4616-8a1f-e2e40d4c0d94-0', usage_metadata={'input_tokens': 13, 'output_tokens': 36, 'total_tokens': 49})"
      ]
     },
     "execution_count": 35,
     "metadata": {},
     "output_type": "execute_result"
    }
   ],
   "source": [
    "llm.invoke(\"What is the material used?\")"
   ]
  },
  {
   "cell_type": "code",
   "execution_count": 36,
   "metadata": {},
   "outputs": [
    {
     "name": "stdout",
     "output_type": "stream",
     "text": [
      "2024-11-06T16:46:04.109Z INFO    : httpx - HTTP Request: POST https://api.openai.com/v1/chat/completions \"HTTP/1.1 200 OK\"\n"
     ]
    },
    {
     "data": {
      "text/plain": [
       "AIMessage(content='To provide accurate information, I need to know the specific material or 3D printer you are referring to, as print temperature, speed, and nozzle diameter can vary widely depending on the type of filament (like PLA, ABS, PETG, etc.) and the printer model. \\n\\nFor example, here are some general guidelines for common materials:\\n\\n1. **PLA (Polylactic Acid)**\\n   - Print Temperature: 180-220°C\\n   - Print Speed: 40-100 mm/s\\n   - Nozzle Diameter: 0.4 mm (common, but can vary)\\n\\n2. **ABS (Acrylonitrile Butadiene Styrene)**\\n   - Print Temperature: 220-250°C\\n   - Print Speed: 40-80 mm/s\\n   - Nozzle Diameter: 0.4 mm (common, but can vary)\\n\\n3. **PETG (Polyethylene Terephthalate Glycol-Modified)**\\n   - Print Temperature: 220-250°C\\n   - Print Speed: 40-100 mm/s\\n   - Nozzle Diameter: 0.4 mm (common, but can vary)\\n\\nIf you provide more details about the specific material or printer, I can give you more tailored information!', response_metadata={'token_usage': {'completion_tokens': 259, 'prompt_tokens': 18, 'total_tokens': 277, 'prompt_tokens_details': {'cached_tokens': 0, 'audio_tokens': 0}, 'completion_tokens_details': {'reasoning_tokens': 0, 'audio_tokens': 0, 'accepted_prediction_tokens': 0, 'rejected_prediction_tokens': 0}}, 'model_name': 'gpt-4o-mini-2024-07-18', 'system_fingerprint': 'fp_9b78b61c52', 'finish_reason': 'stop', 'logprobs': None}, id='run-a909a4db-e5c4-4da7-a058-f538c2f0969d-0', usage_metadata={'input_tokens': 18, 'output_tokens': 259, 'total_tokens': 277})"
      ]
     },
     "execution_count": 36,
     "metadata": {},
     "output_type": "execute_result"
    }
   ],
   "source": [
    "llm.invoke(\"What was the print temperature, speed, nozzle diameter?\")"
   ]
  },
  {
   "cell_type": "markdown",
   "metadata": {},
   "source": [
    "## 5. RAG \n",
    "\n",
    "![RAG system](notebook_images/rag-system.png \"RAG system\")"
   ]
  },
  {
   "cell_type": "markdown",
   "metadata": {},
   "source": [
    "### 5. RAG Chain\n",
    "Combining it all together\n",
    "\n",
    "- Context is the retrieved docs from the retriever/vector db\n",
    "- RunnablePassthrough() is used to pass the user query as is to the chain\n",
    "- format_docs is used to format the documents as a string\n",
    "- prompt is the prompt used to call LLM with\n",
    "- llm is used to call the LLM\n",
    "- StrOutputParser() is used to parse the output from the LLM"
   ]
  },
  {
   "cell_type": "code",
   "execution_count": 29,
   "metadata": {},
   "outputs": [],
   "source": [
    "# rag chain\n",
    "from langchain_core.output_parsers import StrOutputParser\n",
    "from langchain_core.runnables import RunnablePassthrough\n",
    "\n",
    "openai_rag_chain = (\n",
    "    {\"context\": retriever | format_docs, \"question\": RunnablePassthrough()}\n",
    "    | prompt\n",
    "    | llm\n",
    "    | StrOutputParser()\n",
    ")"
   ]
  },
  {
   "cell_type": "code",
   "execution_count": 30,
   "metadata": {},
   "outputs": [
    {
     "name": "stdout",
     "output_type": "stream",
     "text": [
      "2024-11-06T12:13:52.648Z INFO    : httpx - HTTP Request: POST https://api.openai.com/v1/embeddings \"HTTP/1.1 200 OK\"\n",
      "2024-11-06T12:13:54.651Z INFO    : httpx - HTTP Request: POST https://api.openai.com/v1/chat/completions \"HTTP/1.1 200 OK\"\n"
     ]
    },
    {
     "data": {
      "text/plain": [
       "'The materials used are poly(vinylidene fluoride) (PVDF) and poly(vinylidene fluoride-co-hexaﬂuoropropylene) (PVDF-HFP). These polymers are prepared through direct-ink-writing techniques for applications in sensing and energy storage. They exhibit various morphologies and properties suitable for advanced electronic devices.'"
      ]
     },
     "execution_count": 30,
     "metadata": {},
     "output_type": "execute_result"
    }
   ],
   "source": [
    "# call openai rag chain\n",
    "openai_rag_chain.invoke(\"What material is used?\")\n"
   ]
  },
  {
   "cell_type": "code",
   "execution_count": 31,
   "metadata": {},
   "outputs": [
    {
     "name": "stdout",
     "output_type": "stream",
     "text": [
      "2024-11-06T12:14:27.490Z INFO    : httpx - HTTP Request: POST https://api.openai.com/v1/embeddings \"HTTP/1.1 200 OK\"\n",
      "2024-11-06T12:14:28.708Z INFO    : httpx - HTTP Request: POST https://api.openai.com/v1/chat/completions \"HTTP/1.1 200 OK\"\n"
     ]
    },
    {
     "data": {
      "text/plain": [
       "'The yield stress values for the materials mentioned are 1000 Pa for NIPAM/Lap and 300 Pa for NIPAM/Lap/NaPyrPh. Yield stress is typically measured in pascals (Pa). It represents the minimum stress required to induce flow in a material.'"
      ]
     },
     "execution_count": 31,
     "metadata": {},
     "output_type": "execute_result"
    }
   ],
   "source": [
    "openai_rag_chain.invoke(\"What is the yield stress value or unit?\")\n"
   ]
  },
  {
   "cell_type": "code",
   "execution_count": 32,
   "metadata": {},
   "outputs": [
    {
     "name": "stdout",
     "output_type": "stream",
     "text": [
      "2024-11-06T12:15:04.344Z INFO    : httpx - HTTP Request: POST https://api.openai.com/v1/embeddings \"HTTP/1.1 200 OK\"\n",
      "2024-11-06T12:15:05.890Z INFO    : httpx - HTTP Request: POST https://api.openai.com/v1/chat/completions \"HTTP/1.1 200 OK\"\n"
     ]
    },
    {
     "data": {
      "text/plain": [
       "'Yes, there are epoxy-based resins, including those used in 3D printing technologies. These resins can be formulated with various additives, such as acrylates and nanoparticles, to enhance their properties for specific applications. The context mentions the use of epoxy oligomers and the development of inks for direct-ink write (DIW) printing methods.'"
      ]
     },
     "execution_count": 32,
     "metadata": {},
     "output_type": "execute_result"
    }
   ],
   "source": [
    "openai_rag_chain.invoke(\"Is there any epoxy, epoxy-based resin?\")"
   ]
  },
  {
   "cell_type": "code",
   "execution_count": 33,
   "metadata": {},
   "outputs": [
    {
     "name": "stdout",
     "output_type": "stream",
     "text": [
      "2024-11-06T12:15:08.719Z INFO    : httpx - HTTP Request: POST https://api.openai.com/v1/embeddings \"HTTP/1.1 200 OK\"\n",
      "2024-11-06T12:15:11.185Z INFO    : httpx - HTTP Request: POST https://api.openai.com/v1/chat/completions \"HTTP/1.1 200 OK\"\n"
     ]
    },
    {
     "data": {
      "text/plain": [
       "'The print temperature was initially set to 45°C and later increased to 80°C for post-curing. The printing speed was a maximum of 180 mm/s, and the nozzle diameter used was 1.63 mm. Additionally, a 22 GA nozzle with an inner diameter of 0.41 mm was also mentioned for different printed architectures.'"
      ]
     },
     "execution_count": 33,
     "metadata": {},
     "output_type": "execute_result"
    }
   ],
   "source": [
    "openai_rag_chain.invoke(\"What was the print temperature, speed, nozzle diameter?\")"
   ]
  },
  {
   "cell_type": "code",
   "execution_count": null,
   "metadata": {},
   "outputs": [],
   "source": [
    "# call openai rag chain\n",
    "# This should ideally give \"I dont know\" because of the custom prompt\n",
    "openai_rag_chain.invoke(\"What is the capital of the world?\")"
   ]
  },
  {
   "cell_type": "markdown",
   "metadata": {},
   "source": [
    "### RAG - LLM\n",
    "- Lets try with Llama3.2:3.2B model.\n",
    "- This is locally hosted in NCSA system."
   ]
  },
  {
   "cell_type": "code",
   "execution_count": 40,
   "metadata": {},
   "outputs": [],
   "source": [
    "# call ollama llama3.2:latest\n",
    "\n",
    "from langchain_community.llms import Ollama\n",
    "\n",
    "ollama_api_key = os.getenv('OLLAMA_API_KEY')\n",
    "ollama_headers = {\"Authorization\": f\"Bearer {ollama_api_key}\"}\n",
    "\n",
    "# create a ollama model\n",
    "ollamallm: Ollama = Ollama(\n",
    "    base_url=\"https://ollama.software.ncsa.illinois.edu/ollama\",\n",
    "    model=\"llama3.2:latest\",\n",
    "    headers=ollama_headers\n",
    "    )"
   ]
  },
  {
   "cell_type": "code",
   "execution_count": 41,
   "metadata": {},
   "outputs": [
    {
     "data": {
      "text/plain": [
       "'There is no single \"capital of the world\". Each country has its own capital city, and there isn\\'t a universally recognized capital that represents all nations.\\n\\nThat being said, if we consider the headquarters of international organizations or global institutions, some examples could be:\\n\\n* New York City (United Nations Headquarters)\\n* Geneva (Council of Europe)\\n* Brussels (European Union)\\n* Paris (Organization for Economic Co-operation and Development)\\n\\nHowever, it\\'s essential to note that these cities are not necessarily \" capitals\" in the classical sense, as they don\\'t serve as the capital of a country.\\n\\nIf you\\'re looking for information on international organizations or global institutions, I\\'d be happy to help!'"
      ]
     },
     "execution_count": 41,
     "metadata": {},
     "output_type": "execute_result"
    }
   ],
   "source": [
    "# call llama3 model\n",
    "# No RAG. Simple LLM call.\n",
    "ollamallm.invoke(\"What is the capital of the world?\")\n",
    "\n",
    "# notice difference in response format."
   ]
  },
  {
   "cell_type": "code",
   "execution_count": 42,
   "metadata": {},
   "outputs": [],
   "source": [
    "# ollama rag chain\n",
    "from langchain_core.output_parsers import StrOutputParser\n",
    "from langchain_core.runnables import RunnablePassthrough\n",
    "\n",
    "ollama_rag_chain = (\n",
    "    {\"context\": retriever | format_docs, \"question\": RunnablePassthrough()}\n",
    "    | prompt\n",
    "    | ollamallm\n",
    "    | StrOutputParser()\n",
    ")"
   ]
  },
  {
   "cell_type": "code",
   "execution_count": 43,
   "metadata": {},
   "outputs": [
    {
     "name": "stdout",
     "output_type": "stream",
     "text": [
      "2024-11-06T17:00:03.244Z INFO    : httpx - HTTP Request: POST https://api.openai.com/v1/embeddings \"HTTP/1.1 200 OK\"\n"
     ]
    },
    {
     "data": {
      "text/plain": [
       "\"I can help you with that. However, I don't see a specific problem or question in the text provided. The text appears to be a collection of citations from various scientific papers and journals.\\n\\nIf you could provide more context or clarify what you would like me to do (e.g., summarize the papers, identify key findings, etc.), I'll do my best to assist you.\""
      ]
     },
     "execution_count": 43,
     "metadata": {},
     "output_type": "execute_result"
    }
   ],
   "source": [
    "# call ollama rag chain\n",
    "ollama_rag_chain.invoke(\"Who is the president of USA?\")"
   ]
  },
  {
   "cell_type": "code",
   "execution_count": 44,
   "metadata": {},
   "outputs": [],
   "source": [
    "## adding sources to openai rag chain\n",
    "\n",
    "from langchain_core.runnables import RunnableParallel\n",
    "\n",
    "openai_rag_chain_from_docs = (\n",
    "    RunnablePassthrough.assign(context=(lambda x: format_docs(x[\"context\"])))\n",
    "    | prompt\n",
    "    | llm\n",
    "    | StrOutputParser()\n",
    ")\n",
    "\n",
    "openai_rag_chain_with_source = RunnableParallel(\n",
    "    {\"context\": retriever, \"question\": RunnablePassthrough()}\n",
    ").assign(answer=openai_rag_chain_from_docs)"
   ]
  },
  {
   "cell_type": "code",
   "execution_count": 45,
   "metadata": {},
   "outputs": [
    {
     "name": "stdout",
     "output_type": "stream",
     "text": [
      "2024-11-06T17:02:16.314Z INFO    : httpx - HTTP Request: POST https://api.openai.com/v1/embeddings \"HTTP/1.1 200 OK\"\n",
      "2024-11-06T17:02:17.952Z INFO    : httpx - HTTP Request: POST https://api.openai.com/v1/chat/completions \"HTTP/1.1 200 OK\"\n"
     ]
    },
    {
     "data": {
      "text/plain": [
       "{'context': [Document(metadata={'source': 'data/Macro Materials   Eng - 2021 - Pinto - Direct‐Ink‐Writing of Electroactive Polymers for Sensing and Energy Storage.pdf', 'row_page': 10, '_id': '58d542e5e82344668a92af9695791a6d', '_collection_name': 'delta-collection'}, page_content='www.advancedsciencenews.com www.mame-journal.de\\n[23] S.P.Muduli,S.Parida,S.K.Rout,S.Rajput,M.Kar, Mater.Res.Express\\n2019,6,095306.\\n[24] D.Yang,Y.Chen, J.Mater.Sci.Lett. 1987,6,599.\\n[25] L.Ruan,X.Yao,Y.Chang,L.Zhou,G.Qin,X.Zhang, Polymers2018,\\n10,228.\\n[26] a)B.Wang,H.-X.Huang, Composites,PartA 2014,66,16;b)K.Polat,\\nAppl.Phys.A 2020,126,497.\\n[ 2 7 ]R .G o n ç a l v e s ,D .M i r a n d a ,A .M .A l m e i d a ,M .M .S i l v a ,J .M .\\nMeseguer-Dueñas,J.L.G.Ribelles,S.Lanceros-Méndez,C.M.Costa,\\nSustainableMater.Technol. 2019,21,e00104.\\n[28] a)P.Costa,J.Silva,V.Sencadas,C.M.Costa,F.W.J.VanHattum,J.G.\\nRocha, S. Lanceros-Mendez, Carbon2009,47, 2590; b) J. Vicente, P.\\nCosta,S.Lanceros-Mendez,J.M.Abete,A.Iturrospe, Materials2019,\\n12,3545.\\n[ 2 9 ] S .W .C h o i ,J .R .K i m ,Y .R .A h n ,S .M .J o ,E .J .C a i r n s , Chem. Mater.\\n2007,19,104.\\n[30] V.T.Rathod,D.R.Mahapatra,A.Jain,A.Gayathri, Sens.Actuators,A\\n2010,163,164.\\n[31] M. Samet, V. Levchenko, G. Boiteux, G. Seytre, A. Kallel, A. Serghei,\\nJ.Chem.Phys. 2015,142,194703.\\n[32] a) W. Xia, Z. Zhang, IET Nanodielectrics 2018,1, 17; b) R. Gregorio,\\nJr.,E.M.Ueno, J.Mater.Sci. 1999,34,4489.\\n[33] a) B. Hahn, J. Wendorﬀ, D. Y. Yoon, Macromolecules 1985,18, 718;\\nb) Y. Ando, T. Hanada, K. Saitoh, J. Polym. Sci., Part B: Polym. Phys.\\n1994,32,179.\\n[34] H. Arisawa, O. Yano, Y. Wada, Ferroelectrics 1981,32,\\n39.\\n[35] J.Gomes,J.SerradoNunes,V.Sencadas,S.Lanceros-Mendez, Smart\\nMater.Struct. 2010,19,065010.[36] R. E. Sousa, J. Nunes-Pereira, J. C. C. Ferreira, C. M. Costa, A. V.\\nMachado, M. M. Silva, S. Lanceros-Mendez, Polym. Test. 2014,40,\\n245.\\n[37] C.M.Costa,V.F.Cardoso,R.Brito-Pereira,P.Martins,D.M.Correia,\\nV.Correia,C.Ribeiro,P.M.Martins,S.Lanceros-Méndez,in Fascinat-\\ningFluoropolymersandTheirApplications (Eds:B.Ameduri,S.Fomin),\\nElsevier,Amsterdam 2020.\\n[38] X.Liang,D.Han,Y.Wang,L.Lan,J.Mao, RSCAdv.2018,8,40498.'),\n",
       "  Document(metadata={'source': 'data/s41598-017-04663-z.pdf', 'row_page': 4, '_id': '8120c1e6ab64430ea2082c8cb4a9af5b', '_collection_name': 'delta-collection'}, page_content='16. Liu, N. et al. Three-dimensional photonic metamaterials at optical frequencies. Nat. Mater.  7, 31 (2008).\\n 17. Maiti, A. et al. 3D printed cellular solid outperforms traditional stochastic foam in long-term mechanical response. Sci. Rep. 6, 24871 \\n(2016).\\n 18. Ge, Q. et al. Multimaterial 4D printing with tailorable shape memory polymers. Scientific Reports  6, 31110 (2016).\\n 19. Crofts, D., inventor; Raychem Corp., assignee. Improvements in and relating to the production of articles having plastic memory. \\nUnited Kingdom patent GB 99,0235-A. 1965 Apr 28.\\n 20. Lendlein, A. & Kelch, S. Shape-memory polymers. Angew. Chem. Int. Ed. 41, 2034 (2002).\\n 21. Li, G. & Nettles, D. Thermomechanical characterization of a shape memory polymer based self-repairing syntactic foam. Polymer  \\n51, 755 (2010).\\n 22. Ohki, T., Ni, Q.-Q., Ohsako, N. & Iwamoto, M. Mechanical and shape memory behavior of composites with shape memory polymer. \\nCompos. Part A-Appl. S. 35, 1065 (2004).\\n 23. Lendlein, A. & Langer, R. Biodegradable, elastic shape memory polymers for potential biomedical applications. Science  296, 1673 \\n(2002).'),\n",
       "  Document(metadata={'source': 'data/Macro Materials   Eng - 2021 - Pinto - Direct‐Ink‐Writing of Electroactive Polymers for Sensing and Energy Storage.pdf', 'row_page': 0, '_id': 'cf9e4956902748daae5e0a679cac80d4', '_collection_name': 'delta-collection'}, page_content='RESEARCH ARTICLE\\nwww.mame-journal.de\\nDirect-Ink-WritingofElectroactivePolymersforSensingand\\nEnergyStorageApplications\\nRafaelS.Pinto,JoãoP.Serra,JoãoC.Barbosa,RenatoGonçalves,MariaM.Silva,\\nSenentxuLanceros-Méndez,*andCarlosM.Costa*\\nConsideringthehighlevelsofmaterialsusedintheﬁeldsofelectronicsand\\nenergystoragesystems,itisincreasinglynecessarytotakeintoconsideration\\nenvironmentalimpact.Thus,itisimportanttodevelopdevicesbasedon\\nenvironmentallyfriendliermaterialsand/orprocesses,suchasadditive\\nmanufacturingtechniques.Inthiswork,poly(vinylideneﬂuoride)(PVDF)and\\npoly(vinylideneﬂuoride-co-hexaﬂuoropropylene)(PVDF-HFP)arepreparedby\\ndirect-ink-writing(DIW)byvaryingsolventevaporationtemperatureandﬁll\\ndensitypercentage.Diﬀerentmorphologiesforbothpolymersareobtained,\\nincludingdenseﬁlmsandporousmembranes,aswellasdiﬀerent\\nelectroactive 𝜷-phasecontent,thermalandmechanicalproperties.The\\ndielectricconstantandpiezoelectricd33coeﬃcientfordenseﬁlmsreachesup\\nto16at1kHzand4pCN−1,respectivelyforPVDF-HFPwithaﬁlldensityof\\n80andasolventevaporationtemperatureof50 °C.Porousstructuresare\\ndevelopedforbatteryseparatormembranesinlithium-ionbatteries,witha\\nhighestionicconductivityvalueof3.8mScm−1forthePVDF-HFPsample\\npreparedwithaﬁlldensityof100andasolventevaporationtemperatureof\\n25°C,thesampleshowinganexcellentcyclingperformance.Itis\\ndemonstratedthatelectroactiveﬁlmsandmembranescanbepreparedby\\ndirect-inkwritingsuitableforsensors/actuatorsandenergystoragesystems.\\nR.S.Pinto,J.P .Serra,J.C.Barbosa,C.M.C osta\\nCentreofPhysics\\nUniversityofMinho\\nBraga4710-053,Portugal\\nE-mail:cmscosta@ﬁsica.uminho.pt\\nR.S.Pinto,J.P .Serra,C.M.C osta\\nInstituteofScienceandInnovationforBio-Sustainability(IB-S)\\nUniversityofMinho\\nPortugal\\nR.Gonçalves,M.M.Silva\\nCentreofChemistry\\nUniversityofMinho\\nBraga4710-057,Portugal\\nS.Lanceros-Méndez\\nBCMaterials,BasqueCenterforMaterials\\nApplicationsandNanostructures\\nUPV/EHUSciencePark,Leioa48940,Spain\\nE-mail:senentxu.lanceros@bcmaterials.net\\nS.Lanceros-Méndez\\nIKERBASQUE\\nBasqueFoundationforScience\\nBilbao48009,Spain\\nDOI:10.1002/mame.2021003721.Introduction\\nThe interest in portable smart devices for\\nmonitoring sensors and communication\\nhasstronglyincreasedinrecentyears.The\\ncorresponding increases in materials use\\nandenergyconsumptionisleadingtolarge\\nenvironmental impacts. Thus, research is\\nfocusingonenvironmentallyfriendlierma-\\nterialsandrenewableenergysystemsinor-\\nder to reduce the dependence on fossil fu-\\nels, avoiding environmental impacts, and\\nwithoutharmingtheincreaseddemandfor\\nenergy.[1]\\nIn particular, the Internet of Things\\nparadigm demands the interconnec-\\ntion and powering of smart objects\\nwith improved integration and advanced\\nfunctionalities.[2]Novel approaches are\\nthus also needed for the development of\\nminiaturized, lightweight, ﬂexible, and\\nmulti-shaped wearable devices. In order to'),\n",
       "  Document(metadata={'source': 'data/Chemistry A European J - 2019 - Li - Advanced Polymer Designs for Direct‐Ink‐Write 3D Printing.pdf', 'row_page': 12, '_id': '9d8b12e83ac847f2ab3d1c8af891f8d2', '_collection_name': 'delta-collection'}, page_content='e1500 758.\\n[16] J.Malda, J.Visser ,F.P.Melchel s,T.Jengst,W.E.Hennink, W.J.A.Dhert,\\nJ.Groll, D.W.Hutmach er,Adv.Mater.2013,25,5011–5028.\\n[17] B.Xie, R.L.Parkh ill,W.L.Warren,J.E.Smay,Adv.Funct. Mater .2006,\\n16,1685–1693.\\n[18] Y.S.Zhan g,A.Khade mhossein i,Science 2017 ,356,eaaf3627.\\n[19] Y.S.Zhang, K.Yue,J.Alema n,K.Moll azadeh-Mo ghad dam,S.M.Bakht,\\nJ.Yang,W.Jia,V.Dell ’Erba, P.Assawes, S.R.Shin, M.R.Dokmeci ,R.\\nOklu, A.Khade mhossein i,Ann. Biom ed.Eng. 2017 ,45,148–163.\\n[20] M.Wehner ,R.L.Truby ,D.J.Fitzgerald ,B.Mosadegh, G.M.Whites ides,\\nJ.A.Lewis,R.J.Wood, Natu re2016 ,536,451–455.\\n[21] M.Cianchett i,C.Lasc hi,A.Menciassi ,P.Dario, Nat. Rev.Mater.2018 ,3,\\n143–153.\\n[22] L.Yu,J.Ding, Chem. Soc. Rev.2008 ,37,1473–1481.\\n[23] P.Y.W.Dankers ,T.M.Hermans, T.W.Baughma n,Y.Kamik awa,R.E.Kiel-\\ntyka, M.M.C.Basti ngs, H.M.Janssen, N.A.J.M.Sommerd ijk,A.Larsen,\\nM.J.A.vanLuyn ,A.W.Bosma n,E.R.Popa, G.Fytas, E.W.Meijer ,Adv.\\nMater .2012 ,24,2703–2709.\\n[24] M.J.Webber ,E.A.Appel, E.W.Meije r,R.Lang er,Nat. Mater .2016 ,15,\\n13–26.\\n[25] J.A.Lewis,Adv.Funct. Mater .2006 ,16,2193–2204.\\n[26] K.Hçlzl, S.Lin, L.Tytgat, S.VanVlierb erghe, L.Gu,A.Ovsianik ov,Bio-\\nfabri cation 2016,8,032002.\\n[27] N.Paxto n,W.Smo lan,T.Bçck,F.Melchels ,J.Groll, T.Jung st,Biofabrica -\\ntion2017 ,9,044107.\\n[28] D.Y.Wu, S.Meure, D.Solomon, Prog. Polym. Sci.2008,33,479–522.\\n[29] M.Burnwor th,L.Tang, J.R.Kumpfe r,A.J.Duncan, F.L.Beyer ,G.L.\\nFiore, S.J.Rowan, C.Weder ,Natu re2011,472,334–337.\\n[30] A.Camp anella ,D.Dçhler ,W.H.Binder ,Macro mol. Rapid Commun.\\n2018,39,1700739.\\n[31] A.B.Metzner ,J.Rheol. 1985 ,29,739–775.\\n[32] M.Guvendiren, H.D.Lu,J.A.Burd ick, Soft Matter 2012,8,260–272.')],\n",
       " 'question': 'What material is used?',\n",
       " 'answer': 'The materials used are poly(vinylidene fluoride) (PVDF) and poly(vinylidene fluoride-co-hexaﬂuoropropylene) (PVDF-HFP). These polymers are prepared through direct-ink-writing techniques for applications in sensors and energy storage systems. They exhibit various morphologies and properties, including electroactive characteristics.'}"
      ]
     },
     "execution_count": 45,
     "metadata": {},
     "output_type": "execute_result"
    }
   ],
   "source": [
    "# call openai rag chain with source\n",
    "# this will return the answer and the sources (context)\n",
    "openai_rag_chain_with_source.invoke(\"What material is used?\")"
   ]
  },
  {
   "cell_type": "code",
   "execution_count": 46,
   "metadata": {},
   "outputs": [
    {
     "name": "stdout",
     "output_type": "stream",
     "text": [
      "2024-11-06T17:02:28.159Z INFO    : httpx - HTTP Request: POST https://api.openai.com/v1/embeddings \"HTTP/1.1 200 OK\"\n",
      "2024-11-06T17:02:29.479Z INFO    : httpx - HTTP Request: POST https://api.openai.com/v1/chat/completions \"HTTP/1.1 200 OK\"\n"
     ]
    },
    {
     "data": {
      "text/plain": [
       "{'context': [Document(metadata={'source': 'data/Adv Materials Inter - 2018 - Rauzan - A Printing‐Centric Approach to the Electrostatic Modification of Polymer Clay.pdf', 'row_page': 5, '_id': '81f0eabfa59f4a2997d4d75efb1c4076', '_collection_name': 'delta-collection'}, page_content='www.advancedsciencenews.com© 2018 WILEY-VCH Verlag GmbH & Co. KGaA, Weinheim 1701579 (6 of 8)\\nwww.advmatinterfaces.deThe complex moduli of the composite inks were measured \\nwith a 109.5 µ m gap to determine how much pressure must \\nbe applied to the material before it flows. The minimum \\nstress to induce flow, or yield stress, is defined as the stress \\nat G ʹ–G″ crossover (Figure 4c), and those for NIPAM/Lap \\nand NIPAM/Lap/NaPyrPh are 1000 and 300 Pa, respectively. The yield stress measured in the bulk rheology can be com-\\npared with the apparent shear stress applied at the wall of \\nthe nozzle (\\nτy) during extrusion of filament as calculated by \\nEquation (1)PP r\\nL()\\n2flow atmτ=−\\nγ  (1)\\nwhere Pflow is the minimum pressure required to extrude the \\nfilament at 1 mm s−1, Patm is the atmospheric pressure, r  is the \\nradius of the nozzle, and L  is the length of the nozzle.[18] For all \\nnozzle diameters, the apparent shear stress applied at the wall for NIPAM/Lap/NaPyrPh is lower than NIPAM/Lap as expected. \\nFor both compositions, the apparent shear stress applied at the \\nwall of a 100 µ m nozzle (\\nτy app) during extrusion was greater than \\nAdv. Mater. Interfaces 2018, 5, 1701579\\nFigure 4. a) Pneumatic extrusion of ink through a nozzle; b) 2D scattering patterns of composite inks at 0.3 mm below 100 µ m nozzle during \\nextrusion; c) log–log plot of storage (square/solid line) and loss (circle/dash line) modulus as a function of shear stress measured in oscillatory \\nmode at 1 rad s−1, error bars are from repeat measurements; d) shear stress of composite ink at wall as a function of nozzle diameter with flow \\nrate of 1 mm s−1, error bars are from repeat measurements; e) axial force as a function of time during preshear (5 s−1) measured immediately after \\nloading sample, error bars are from repeat measurements; f) dominant intermolecular interactions disrupted due to deformation of composite ink during extrusion.\\n 21967350, 2018, 8, Downloaded from https://onlinelibrary.wiley.com/doi/10.1002/admi.201701579 by University Of Illinois At Urbana Champaign, Wiley Online Library on [30/06/2023]. See the Terms and Conditions (https://onlinelibrary.wiley.com/terms-and-conditions) on Wiley Online Library for rules of use; OA articles are governed by the applicable Creative Commons License'),\n",
       "  Document(metadata={'source': 'data/Advanced Materials - 2014 - Compton - 3D‐Printing of Lightweight Cellular Composites.pdf', 'row_page': 3, '_id': '5f914291748d4629a4c839841ce6f5d6', '_collection_name': 'delta-collection'}, page_content='5933\\nwww.advmat.de\\nwww.MaterialsViews.com\\nwileyonlinelibrary.com © 2014 WILEY-VCH Verlag GmbH & Co. KGaA, WeinheimCOMMUNICATION\\ndensities. Representative stress-strain curves are shown in \\nFigure  4 g, which display incremental load drops that corre-spond to discrete failure events highlighted in still frames taken from videos acquired during testing (Figure  4 h,i). The failure modes include elastic wall buckling, node rotation, and tensile failure of the cell walls. The site of one node rotation is shown in the SEM images in Figure  4 j,k. Results are discarded from any test where out of plane buckling is observed. \\n The Young’ modulus and strength values for triangular hon-\\neycombs are plotted in  Figure     5  . The scaling laws governing \\nthe elastic modulus and strength of cellular materials are well established: \\n[ 31 ] \\n    ρ\\nρ=⎛\\n⎝⎜⎞\\n⎠⎟E\\nEB\\nssb\\n  (1)    \\n and\\n   cC\\nTS scσ\\nσρ\\nρ=⎛\\n⎝⎜⎞\\n⎠⎟\\n  (2)   \\n where  E s  ,  σ TS  , and  ρ s   are the Young’s modulus, tensile strength, \\nand density of the base solid material, respectively, and  E  and \\n σ c   are the Young’s modulus and strength, respectively. For a triangular lattice,  B  =  C  = 1/3 and  b  = 1. The value of the exponent \\n c  depends on the nature of failure in the material:  c  = 1 when \\nthe cell walls fail in uniaxial tension or compression, and  c  = \\n2 when the cell walls fail via elastic buckling. It is important to note that the mechanical properties of cellular structures are not dependent on their absolute size, but depend solely on the properties of the base material, architecture, and relative den-sity. These 3D cellular composites therefore beneﬁ  t from design \\naspects inspired by balsa wood (e.g., cellular architecture cou-pled with multi-scale, aligned reinforcement) without having to reproduce such features at the speciﬁ  c length scales observed \\nin wood. Model predictions are plotted in Figure  5  using prop-erties measured for the SiC/C-ﬁ  lled epoxy composites. We \\nﬁ nd that the modulus values closely follow the expected linear \\nscaling with density, albeit at roughly half the predicted value, and the strength values closely follow the scaling law indica-tive of failure via wall buckling, in agreement with observations made during the tests (Figure  4 h,i). The cellular structures are somewhat stronger than the predictions based on tensile strength data. This observation may be attributed to erroneously low tensile strength values due to stress concentrators in the tensile samples, or to size effects due to the speciﬁ  c ﬂ aw popu-\\nlations in the composites. The discrepancy between observed and predicted modulus values, as well as the propensity for failure via buckling of the cell walls, can be attributed, in part, \\nAdv. Mater.  2014 , 26, 5930–5935\\n Figure 4.    Optical images of (a) square, (b) hexagonal, and (c) triangular honeycomb structures composed of SiC-ﬁ  lled epoxy. Scale bar s are 2 mm. \\n(d-f) Optical images of a triangular honeycomb structure composed of SiC/C-ﬁ  lled epoxy, which reveal highly aligned carbon ﬁ  b ers oriented along \\nthe print direction. The scale bars in (e-f) are 500 µm. (g) Representative compressive stress versus strain curves for printed  triangular honeycomb \\nstructures over a range of relative densities. Still images from video acquired during mechanical testing show an initial node rotation failure event (h), \\nfollowed by damage propagation from that site in the form of elastic wall buckling and tensile fracture (i). The scale bars for  (h-i) are 10 mm. (j-k) SEM'),\n",
       "  Document(metadata={'source': 'data/Advanced Materials - 2014 - Compton - 3D‐Printing of Lightweight Cellular Composites.pdf', 'row_page': 2, '_id': '8455b8ce1ff94b578b0cab0bcced7732', '_collection_name': 'delta-collection'}, page_content='To quantify their mechanical properties, we subjected the \\ntriangular honeycomb structures to in-plane compression tests for samples printed with a range of cell sizes and relative \\nAdv. Mater.  2014 , 26, 5930–5935\\n Figure 3.    (a) Representative tensile stress versus strain curves for 3D printed tensile bars of varying composition and control sample s cast from pure \\nepoxy resin. Tensile fracture surfaces of longitudinally and transversely printed SiC/C-ﬁ  lled specimens at (b, c) low and (d,e ) higher magniﬁ  cation, \\nrespectively. Scale bars in (d) and (e) are 20 µm.\\n 15214095, 2014, 34, Downloaded from https://onlinelibrary.wiley.com/doi/10.1002/adma.201401804 by University Of Illinois At Urbana Champaign, Wiley Online Library on [30/06/2023]. See the Terms and Conditions (https://onlinelibrary.wiley.com/terms-and-conditions) on Wiley Online Library for rules of use; OA articles are governed by the applicable Creative Commons License'),\n",
       "  Document(metadata={'source': 'data/1-s2.0-S026635381732849X-main.pdf', 'row_page': 2, '_id': '49b7ecfc18ea4b99aa45f5eebf422604', '_collection_name': 'delta-collection'}, page_content='3/C14C/min. Three-point ﬂexural tests were conducted at room tem-\\nperature on an electromechanical load frame (Model 45, MTS\\nSystems Corporation, Eden Prairie, MN, USA) using a 1 kN or 5 kN\\nload cell (typical loads were 200 e300 N and no systematic differ-\\nence was observed between measurements from the 1 kN and 5 kN\\nload cells). Flexural test samples had target as-printed dimensions\\nof 65 /C212.7/C23.2 mm, and were tested using a span length of\\n50 mm and cross-head speed of 1.3 mm/min. Edges and surfaces of\\ntheﬂexural tests samples were ground or machined smooth prior\\nto testing, so that the ﬁnal as-tested depth of the majority of\\nsamples fell between 2.95 mm and 3.15 mm, resulting in a span-to-\\ndepth ratio of between 16.95:1 and 15.87:1, which is very close to\\nthe 16:1 span-to-depth ratio speci ﬁed in ASTM D790 [ 43]. Optical\\nmicrographs were recorded using a VHX-5000 digital microscope\\n(Keyence Corporation of America, Itasca, IL). Density was measured\\nusing the Archimedes method.Table 1\\nCompositions of epoxy/nanoclay formulations.\\nInk\\n#Resin\\n(g)VS 03\\n(g)Clay\\n(g)Clay (wt.%) Clay\\n(calculated vol%)Density\\n(g/cc)\\n1 30 1.5 0.00 0.0 0.0 1.190\\n2 30 1.5 0.81 2.5 1.871 1.206\\n3 30 1.5 1.66 5 3.77 1.214\\n4 30 1.5 2.55 7.5 5.69 1.2205 30 1.5 3.50 10 7.63 1.2306 30 1.5 4.50 12.5 9.60 1.250N.S. Hmeidat et al. / Composites Science and Technology 160 (2018) 9 e20 11')],\n",
       " 'question': 'What is the yield stress value or unit?',\n",
       " 'answer': 'The yield stress values for the materials mentioned are 1000 Pa for NIPAM/Lap and 300 Pa for NIPAM/Lap/NaPyrPh. Yield stress is typically measured in pascals (Pa). It represents the minimum stress required to induce flow in a material.'}"
      ]
     },
     "execution_count": 46,
     "metadata": {},
     "output_type": "execute_result"
    }
   ],
   "source": [
    "openai_rag_chain_with_source.invoke(\"What is the yield stress value or unit?\")"
   ]
  },
  {
   "cell_type": "code",
   "execution_count": 47,
   "metadata": {},
   "outputs": [
    {
     "name": "stdout",
     "output_type": "stream",
     "text": [
      "2024-11-06T17:02:38.844Z INFO    : httpx - HTTP Request: POST https://api.openai.com/v1/embeddings \"HTTP/1.1 200 OK\"\n",
      "2024-11-06T17:02:40.575Z INFO    : httpx - HTTP Request: POST https://api.openai.com/v1/chat/completions \"HTTP/1.1 200 OK\"\n"
     ]
    },
    {
     "data": {
      "text/plain": [
       "{'context': [Document(metadata={'source': 'data/c7sm02362f.pdf', 'row_page': 0, '_id': '81a838c271e649fab6ecdedcabbb06c2', '_collection_name': 'delta-collection'}, page_content='the past, epoxy thermosets were directly printed using epoxy\\ndiacrylate viaphoto-induced radical polymerization or epoxy\\noligomer viaUV light-induced cationic polymerization.\\n17Although\\nt h eh i g hm o d u l u sa n dy i e l ds t r e s sc a nb eo b t a i n e d ,t h es t r a i na tbreak is low at room temperatur e. In addition, the cationic\\ninitiators used in photocurable epoxy are more expensive, makingthem hard to use in large scale applications. As an alternative,other low-cost 3D printing technologies such as the direct-inkwrite (DIW) approach\\n18,19have been developed to print thermally\\ncurable epoxy resin. In the work by Lewis’ group,19the cellular\\nstructures (in a 2D pattern and with several layers in thethickness direction) were printed using epoxy compositesink reinforced by chopped carbon fibers and nanoparticles.In this approach, the ink containing the curable monomer oroligomer is extruded through a nozzle attached to a syringeaApplied Mechanics and Structure Safety Key Laboratory of Sichuan Province\\nSchool of Mechanics and Engineering, Southwest Jiaotong University, Chengdu,\\nSichuan 610031, P. R. China. E-mail: guozhengkang@swjtu.edu.cn\\nbThe George W. Woodruﬀ School of Mechanical Engineering,\\nGeorgia Institute of Technology, Atlanta, GA 30332, USA\\ncSchool of Chemical and Biomolecular Engineering, Georgia Institute of Technology,\\nAtlanta, GA 30332, USA. E-mail: qih@me.gatech.edu\\n†Electronic supplementary information (ESI) available. See DOI: 10.1039/c7sm02362f\\n‡These two authors contribute equally to this paper.Received 1st December 2017,\\nAccepted 30th January 2018\\nDOI: 10.1039/c7sm02362f\\nrsc.li/soft-matter-journalSoft Matter\\nPAPER\\nPublished on 30 January 2018. Downloaded by University of Illinois Urbana-Champaign on 6/30/2023 6:13:42 PM. \\nView Article Online\\nView Journal\\n | View Issue'),\n",
       "  Document(metadata={'source': 'data/c7sm02362f.pdf', 'row_page': 1, '_id': 'b8d97b11e62b444196770531cd43addc', '_collection_name': 'delta-collection'}, page_content='tunable mechanical properties. The printed epoxy composite\\nalso shows a good shape memory eﬀect with a high shape fixity\\nratio, shape recovery ratio, and cycling stability.\\n2. Experimental sections\\n2.1 Materials and ink preparation\\nThe DIW ink was prepared by mixing acrylate with epoxy resin\\nof 4/6 (wt/wt) or about 17.6/18.2 (mol/mol). For the acrylate,n-butyl acrylate (BA, Sigma-Aldrich, St. Louis, MO, USA) was mixed\\nwith aliphatic urethane diacrylate (Ebecryl 8402, Alpharetta,\\nGA. USA) at the BA/Ebecryl 8402 ratio of 1/1 (wt/wt) or about15.6/2.0 (mol/mol). Bisphenol A diglycidyl ether (DGEBA) epoxyoligomer (Epon resin 862, Hexion Inc., Pueblo, CO, USA) wasadded into the acrylate. Then 1.5 wt% of 2,4,6-tris-dimethylamino-methyl phenol (Hexion Inc, Pueblo, CO, USA) as the curing agent,and 1.0 wt% of phenylbis(2,4,6-trimethylbenzoyl) phosphine oxide(Sigma-Aldrich, St. Louis, MO, USA) as the photoinitiator were\\nadded into the above mixture. Next, the mixture was mixed using\\na vortexer (Vortex-Genie 2, Bohemia, NY, USA) for five minutes.Finally, 8 wt% of fumed silica nanoparticle (Sigma Aldrich) wasgradually added and stirred manually for 15 minutes. Beforeusage, the mixture was loaded into 10 cc, luer-lock syringes(Nordson EFD, Westlake, OH, USA) and centrifuged at 4000 rpmfor 10 minutes to remove the bubbles.\\n2.2 The direct-ink write apparatus\\nThe DIW printer setup was used for printing recyclable vitrimer\\nepoxy,\\n18PDMS(polydimethylsiloxane),25hydrogels26and con-\\nductive silver lines.27In this work, a photo-assisted DIW setup\\nwas developed as shown in Fig. S1 (ESI †). The syringe was\\ncontrolled by a pressure regulator (Ultimus V, Nordson EFD,East Providence, RI, USA), which moved in the x-a n d z-directions,\\nwhile the printing platform moved in the y-direction. A nozzle with\\n0.41 mm (22 GA) inner diameter was attached to the end of thesyringe. A pressure of 33 psi and a printing speed of 10 mm s\\n/C01\\nwere used during printing. It should be noted that the highest\\nresolution can reach 250 mm by using a nozzle with an inner\\ndiameter of 250 mm in our printing system. In addition, our\\nm e t h o dc a nb eu s e di no t h e rm o r ea d v a n c e dp r i n t i n gs y s t e m swhere a resolution as high as 20 mm could be achieved.\\n28However,\\nt h e r ei sab a l a n c eb e t w e e nt h er e s olution and printing eﬃciency\\nfor practical printing. The main limitation of our method is therelatively lower printing speed compared with other layer-basedprinting technologies, such as digital light processing (DLP).On the other hand, the DIW method has the advantages ofexcellent interfacial bonding between diﬀerent filaments, andwidely tunable mechanical properties after curing, which canbe applied to a wide arrange of resins with high viscosity.\\n2.3 Material characterization\\nThe rheology of mixtures was analyzed using a viscometer\\n(DV3THB, Brookfield Engineering Labs Inc., Middleborough, MA,USA). The UV-diﬀerential scanning calorimetry (DSC, model Q2000,Paper Soft Matter\\nPublished on 30 January 2018. Downloaded by University of Illinois Urbana-Champaign on 6/30/2023 6:13:42 PM. \\nView Article Online'),\n",
       "  Document(metadata={'source': 'data/Advanced Materials - 2014 - Compton - 3D‐Printing of Lightweight Cellular Composites.pdf', 'row_page': 1, '_id': '1435a5e001ba4a4bb07769068383aa11', '_collection_name': 'delta-collection'}, page_content=\"5931\\nwww.advmat.de\\nwww.MaterialsViews.com\\nwileyonlinelibrary.com © 2014 WILEY-VCH Verlag GmbH & Co. KGaA, WeinheimCOMMUNICATIONresins. [ 28–30 ]  The properties of these individual constituents as \\nwell as representative ink formulations are provided in Table S1 and S2, respectively. \\n The rheological behavior of epoxy-based inks of varying \\ncomposition are shown in  Figure     2  . The pure epoxy resin \\nwith DMMP exhibits a viscosity ( \\nη ) of ∼1.5 Pa•s that is inde-\\npendent of shear rate (Figure  2 a). As a consequence, the shear storage modulus ( G ′) of this ink is lower than its loss modulus \\n( G″ ), and both moduli are independent of applied shear stress \\n(Figure  2 b). While the resin readily ﬂ  ows through ﬁ  ne noz-\\nzles under modest applied pressures, it immediately wets and spreads upon exiting the nozzle and lacks the ability to support itself. The addition of nano-clay platelets transforms the resin \\ninto a viscoelastic ﬂ  uid. The resulting material, referred to as \\nthe base epoxy ink, possesses a  \\nη  that exceeds 10 4  Pa•s at low \\nshear rates ( ∼0.01 s −1 ) that is four orders of magnitude higher \\nthan the pure resin. Due to its strong shear thinning behavior, this ink exhibits an apparent viscosity of ∼20 Pa•s at shear rates \\n(∼50 s \\n−1 ) typically experienced during printing. Hence, the ink \\nviscosity is only an order of magnitude higher than that of the resin alone under relevant printing conditions. The base epoxy ink exhibits a plateau value of  G ′ ∼10 \\n4  Pa that exceeds  G″  by \\nabout an order of magnitude at low stress. At the crossover point between the two moduli curves, its shear yield stress ( \\nτ y  ) \\nis ∼150 Pa. Upon adding SiC whiskers to the \\nbase epoxy ink to create a SiC-ﬁ  lled epoxy \\nink, the viscosity increases by approximately an order of magnitude at a given shear rate without altering its shear thinning behavior. At the characteristic shear rate of 50 s \\n−1 , the \\nSiC-ﬁ  lled epoxy ink viscosity is ∼200 Pa•s. \\nFinally, the addition of large carbon ﬁ  bers \\n(10% by weight of resin) to the SiC-ﬁ  lled \\nepoxy ink (refered to as the SiC/C-ﬁ  lled \\nepoxy ink) has little effect on either the ink viscosity or degree of shear thinning. How-ever, the incorporation of SiC whiskers and carbon ﬁ  bers to the base epoxy ink increases \\nthe  G ′ and  \\nτ y   to ∼7 × 10 5  Pa, and 4 × 10 3  Pa, \\nrespectively. Due to their high stiffness and yield stress, these inks are ideally suited for 3D printing of cellular composites. Moreover, given their solid-like nature in the quiescent state, the ﬁ  ller species within \\nthese inks undergo minimal aggregation or sedimentation. \\n To investigate the effects of shear-induced \\nﬁ ller alignment, we printed tensile bars with \\ndifferent printing paths – one oriented lon-gitudinally along the tensile direction and the other oriented transverse to the ten-sile direction (Figure S1). The results are shown in  Figure     3   along with tensile data \\nfor specimens printed using the base epoxy ink (without SiC whiskers or carbon ﬁ  ber \\nﬁ llers). Printed composites show a substan-\\ntial increase in Young's modulus,  E , over the \\npure resin from 2.66 ± 0.17 GPa to 10.61 ± \\n1.38 and 8.06 ± 0.45 GPa for the SiC-ﬁ  lled \\nand SiC/C-ﬁ  lled transverse specimens,\"),\n",
       "  Document(metadata={'source': 'data/1-s2.0-S026635381732849X-main.pdf', 'row_page': 1, '_id': '2ab424ca5b0146cd866057845e3231a7', '_collection_name': 'delta-collection'}, page_content=\"transverse specimens) to the printing direction. Cast and printed\\nbehavior is compared for one ink formulation, and a control ink\\nformulated using isotropic fumed silica is also investigated for\\ncomparison. Good printing behavior is observed in inks with shear\\nyield stress values greater than ~300 Pa, and observed strength\\nvalues are up to ~5x higher than those reported in Ref. [ 12] for\\nepoxy/clay DW inks without ﬁbers, suggesting there is great po-\\ntential for further development of this material system for additivemanufacturing.\\n2. Experimental\\n2.1. Materials\\nThe epoxy resin used in this study is Epon 826 epoxy resin\\n(Momentive Specialty Chemicals, Inc. Columbus, OH), a Bisphenol A\\ndiglycidyl ether (DGEBPA) resin with 178 e186 wt per epoxide, and\\ndensity of 1.162 g/cc. 1-Ethyl-3-methylimidazolium dicyanamide\\n(EMIM DCA) was used as a latent curing agent (Basionics VS03,\\nSigma-Aldrich, Inc. St. Louis, MO). This imidazole-based curing\\nagent results in inks with up to one month of shelf stability at room\\ntemperature and also imparts a characteristic reddish-brown to\\nblack color to the cured composite [ 37]. Garamite 7305 nanoclay\\n(BYK-Chemie GmbH, Wesel, Germany) with a speci ﬁc density of\\n1.5e1.7 g/cc was utilized as the nano-scale ﬁller material. Garamite\\n7305 is part of BYK's patented Mixed Mineral Thixotrope\\nFig. 1. (a) Schematic illustration of direct write 3D-printing. (b) 3D-printed rectangular specimens for both ﬂexural and DMA test characterization, with transverse specimens on the\\nleft and longitudinal specimens on the right. (c) 3D-printed University of Tennessee logo with honeycomb in ﬁll. (d) Top, side, and end view optical micrographs of a transverse\\nﬂexure specimen printed using the 12.5 wt% nanoclay ink formulation.N.S. Hmeidat et al. / Composites Science and Technology 160 (2018) 9 e20 10\")],\n",
       " 'question': 'Is there any epoxy, epoxy-based resin?',\n",
       " 'answer': 'Yes, there are epoxy-based resins, including those used in 3D printing technologies. These resins can be formulated with various additives, such as acrylates and nanoparticles, to enhance their properties for specific applications. The context mentions the use of epoxy oligomers and the development of inks for direct-ink writing (DIW) that incorporate epoxy resins.'}"
      ]
     },
     "execution_count": 47,
     "metadata": {},
     "output_type": "execute_result"
    }
   ],
   "source": [
    "openai_rag_chain_with_source.invoke(\"Is there any epoxy, epoxy-based resin?\")"
   ]
  },
  {
   "cell_type": "code",
   "execution_count": 48,
   "metadata": {},
   "outputs": [
    {
     "name": "stdout",
     "output_type": "stream",
     "text": [
      "2024-11-06T17:02:43.773Z INFO    : httpx - HTTP Request: POST https://api.openai.com/v1/embeddings \"HTTP/1.1 200 OK\"\n",
      "2024-11-06T17:02:46.069Z INFO    : httpx - HTTP Request: POST https://api.openai.com/v1/chat/completions \"HTTP/1.1 200 OK\"\n"
     ]
    },
    {
     "data": {
      "text/plain": [
       "{'context': [Document(metadata={'source': 'data/He_2022_Int._J._Extrem._Manuf._4_015301.pdf', 'row_page': 11, '_id': '9087b53a9aca44fca4ee8b55ba9f48b0', '_collection_name': 'delta-collection'}, page_content='using a rheometer (TA Instruments, AR-G2, New Castle, DE,\\nUSA).Therheometerwasequippedwithparallelplateswitha\\ndiameterof20mmdiameter.Totesttheinkviscosity,theresin\\nwas filled in the 1 mm gap between the two plates. The shear\\nrate changed between 10−3and 200 s−1. To determine the\\nmodulus, the parallel plates oscillated at 1 Hz, and the stress\\nlevel ranged between 0.01 Pa and 104Pa.\\n5.2. DIW 3D printing\\nThe 3D printing was performed using a customized DIW\\nprinter. The printable ink was loaded in a plastic syringe with\\nadepositionnozzle(1.63mmdiameter).Thesyringewascon-\\nnected to a digital pump (Ultimus V high precision dispenser,\\nelectron fusion devices (EFD)) to control the deposition pres-\\nsure at 80 psi. A Makebot moving stage was used to control\\nthe motion of the deposition syringe.\\nAfter the polyimine composites were printed, they were\\nmoved into a vacuum oven for post-curing. The temperature\\nwas first set to be 45◦C with an 8 kPa vacuum pressure. After\\ntheprintedcompositesgainingsufficientstiffness,thetemper-\\nature was further increased to 80◦C, and the printouts were\\nfully cured after ∼6 h.\\nTorecycletheprintedpolyimineandtheircomposites,they\\nwere immersed in the amine solvent. After they were fully\\ndepolymerized, the polymer solution was partially cured and\\nloaded into the DIW printer for the next round of printing.\\n5.3. Measurements on the resistance of printed polyimine\\ncomposites\\nThe printed conductive polyimine composites with different\\nMWCNT contents were cut into the same dimension of\\n11'),\n",
       "  Document(metadata={'source': 'data/Adv Materials Inter - 2018 - Rauzan - A Printing‐Centric Approach to the Electrostatic Modification of Polymer Clay.pdf', 'row_page': 6, '_id': 'cbec9bb195bf450595725222f7c63405', '_collection_name': 'delta-collection'}, page_content='Capillary Extrusion Characterization: Ink was loaded into a Luer-\\nlock syringe, mounted to a 3D printer with camera, and attached to a compressed air regulator (Ultimus V Pressure Controller, Nordson EFD). Stainless steel, straight tip nozzles (100–330 µm, 10 mm nozzle length, Nordson EFD) were attached to the syringe via a Luer-lock connection. For each tip diameter, 5 psi was applied to the system for 10 s. If no ink extruded, the pressure was increased in increments of 5 psi until the pressure was sufficient for the material to be extruded at a linear flow rate of 1 mm s\\n−1. All experiments were repeated three times to obtain \\nerror bars. The print path (G-code) is available upon request.\\nRheo-SAXS: Measurements were conducted at beam line 8-ID-I of the \\nAdvanced Photon Source Argonne National Laboratory, Lemont, IL using 7.34 keV X-rays. A direct-illuminated charge-coupled device (CCD) area detector (Pilatus 100K, pixel size of 172 µm, 487 × 195 pixels) that was \\n3930 mm from the sample was used to measure scattering intensity from 0.003 A\\n−1 < q < 0.11 A−1 in the vorticity direction. Using the magnitude \\nof q, the pixels were partitioned for analysis. For bulk rheology, inks were \\ncharacterized with a rheometer (MCR 301, Anton-Paar instruments) with a custom-made cylindrical Couette Cell with a 500 µ m gap at 30 ° C in the 1,3 \\n(flow-vorticity) plane. A preshear of 5 s\\n−1 for 10 min was applied before each \\nAdv. Mater. Interfaces 2018, 5, 1701579\\n 21967350, 2018, 8, Downloaded from https://onlinelibrary.wiley.com/doi/10.1002/admi.201701579 by University Of Illinois At Urbana Champaign, Wiley Online Library on [30/06/2023]. See the Terms and Conditions (https://onlinelibrary.wiley.com/terms-and-conditions) on Wiley Online Library for rules of use; OA articles are governed by the applicable Creative Commons License'),\n",
       "  Document(metadata={'source': 'data/c7sm02362f.pdf', 'row_page': 3, '_id': '8bc710f65245407d86cc99b8e5a77119', '_collection_name': 'delta-collection'}, page_content='1882 |Soft Matter, 2018, 14, 1879--1886 This journal is ©The Royal Society of Chemistry 2018architectures were printed using a 22 GA nozzle (0.41 mm inner\\ndiameter), as shown in Fig. 3. The images above the dashed lineshow the printed objects after the DIW 3D printing (Fig. 3a–d).The images under the dashed line show the objects after the2nd stage thermal curing. Fig. 3a shows a square-shaped latticestructure, which is a 2D pattern composed of several layers thatwas able to maintain its shape well during the 2nd stage high\\ntemperature thermal cure. In addition to the lattice structure,\\ncomplex structures with a micropattern, such as a gear wheel,were also printed. As shown in Fig. 3b, the spiral small gearteeth in the thickness direction were clearly visible. In addition,a spiral swirl bowl with a single-layered wall was successfullyprinted without any sagging and its dimension in the thicknessdirection was almost the same after thermal curing (from 18.43 mmto 18.39 mm), as shown in Fig. 3c. This confirms the excellent\\nprintability of the nanocomposite ink. Finally, a 3-links trophy object\\nwas printed (Fig. 3d; see Video 1 in ESI †) to show a comprehensive\\n3D printing ability. The microsc ale structure of the filament and\\nprinted structure were observed using SEM. Fig. 3(e) shows that thefilament with a size of around 400 mm was clear without sagging.\\nA close-up view of the filament shows its uniform dimensions.The filaments were tightly bound together since the thermalcuring enables a polymerization reaction in the interfacial\\nregion. Such a feature provides an excellent interfacial adhesion\\nbetween different layers.\\n3.4 Mechanical properties of the printed materials\\nThe mechanical properties of the printing materials were\\nevaluated using the uniaxial tensile tests. 3D printed epoxycomposites with diﬀerent printing paths were fabricated.\\nFig. S4a (ESI †) is the schematic illustration of the fabricated\\ndog-bone shaped samples with diﬀerent printing paths,i.e., perpendicular to the stretching direction (0 1), 45 1to the\\nstretching direction, and parallel to the stretching direction(901). The printed samples with diﬀerent printing paths are\\nshown in Fig. S4b (ESI †).\\nFig. 4a shows the representative stress–strain curves of\\nthe samples with 40% weight fraction of photopolymer withdifferent printing paths. As a comparison, Fig. 4a also showsthe stress–strain curves of the molded neat epoxy. It can be seenthat the moduli of the neat epoxy and printed epoxy compositewere around 1.92 GPa and 0.82 GPa; and the ultimate strainswere about 5.3% and 25.4%, respectively, which showed theobvious enhanced tensile toughness. The tensile stress–strain\\ncurves of the printed samples with different printing paths\\nnearly overlapped. Therefore, the mechanical properties of theprinted epoxy composites, including Young’s modulus andtensile strength, were insensitive to the printing path. Theseisotropic mechanical properties can be attributed to the excellentinterfacial adhesion. It can be explained by two main factors:first, the liquid filament could be partially merged with theadjacent ones during printing, which could be bonded to each\\nother after the UV curing; second, the thermal curing of the\\nepoxy oligomer in the photo polymer provided additionaladhesion, which could weld the filaments.\\nAs discussed above, the printed IPN epoxy composites\\nshowed excellent mechanical properties, especially outstandingtensile toughness. To further evaluate the tensile toughness of\\nFig. 2 (a) Viscosity curves of the epoxy composite resin with a diﬀerent weight content of silica; (b) photo-DSC curve of the ink (epoxy composite\\nresin with 8% silica); (c) curing extent of the ink as a function of the amount of irradiation; (d) FTIR spectra of the ink without cure, with 1st stage cur e\\n(photo cure) and 2nd stage cure (thermal cure).Paper Soft Matter\\nPublished on 30 January 2018. Downloaded by University of Illinois Urbana-Champaign on 6/30/2023 6:13:42 PM. \\nView Article Online'),\n",
       "  Document(metadata={'source': 'data/manu_139_11_111004.pdf', 'row_page': 2, '_id': 'be62c564316245b6ab3995e5d3586dbe', '_collection_name': 'delta-collection'}, page_content='17.23 kPa–2.5 psi which is the lowest achievable pressure for our\\nprinter system) for which continuous deposition is achieved at themaximum speed of 180 mm/s is determined. This pressure level is\\nused for all the experiments for a given ink unless otherwise\\nnoted. The discontinuous printing occurs when the ﬂow rate is so\\nlow that the ink is deposited as discrete droplets instead of a con-\\ntinuous line. These droplets usually have a larger diameter thanthe continuous lines formed at higher ﬂow rates due to the capil-\\nlary effects and localization of volume in these droplets, as shown\\nin Figs. 8(a)and8(b)in the Appendix. This phenomenon helps us\\nto easily determine the discontinuous-to-continuous transition by\\nusing low-magniﬁcation optics during the process. The maximumspeed of 180 mm/s is the maximum speed our printer system can\\nachieve with reasonable accelerations. We considered the mini-\\nmum speed of 30 mm/s as the lowest reasonable speed that can\\nmeet high throughput requirements of many relevant applications.\\nThe other DIW parameters that are kept constant during the\\nexperiments include the inner nozzle diameter of 200 lm and the\\nnozzle–substrate distance of 100 lm. The print head is alsoequipped with a microscope to monitor the printing process. The\\nsubstrate on which the inks were printed was prepared by spin\\ncoating a platinum-cured silicone (Smooth-on Eco-Flex 10, EastTexas, PA) on a 6 in diameter glass disk.\\nOptical Profilometry of the Printed Structures. The geome-\\ntry of the linear structures printed using the electrolytic and anodic\\ninks was characterized using an optical proﬁlometer (Zygo New-\\nView 7300, Berwyn, PA) which uses white light interferometry.\\nFor each line, a 2-mm long section was measured to characterize\\nits average height, width, and the cross-sectional area with sub-nanometers height and submicron width resolution.\\nElectrical Conductivity Measurements of the Printed Struc-\\ntures. Electrical resistance measurements of the printed anodic\\nstructures were taken to characterize their electrical conductivity.\\nTo this end, two room temperature liquid metal droplets (Eutectic\\nGallium Indium, nominal melting point 15\\n/C14C) were administered\\non center portions of the printed lines and electrical wires con-nected to an LCR meter (BK Precision, Yorba Linda, CA)\\nL789D) are inserted in them (see Fig. 8in the Appendix). The\\nelectrical resistivity that is inversely proportional to the conduc-\\ntivity was calculated through\\nq¼RA\\nL(1)\\nwhere Ris the measured resistance, Ais the average cross-\\nsectional area of the lines determined through optical proﬁlome-\\ntry, and Lis the distance between the measurement points.\\nAtomic Force Microscopy Based Quantitative Nanomechanical\\nCharacterization of the Printed Structures. An atomic force\\nmicroscopy (AFM) system (Bruker, Santa Ana, CA) Dimension\\nIcon) was used to perform peak force quantitative nanomechanical\\ncharacterization (PFQNM) in order to understand the mechanical\\nand surface properties of various material phases in the printed\\nstructures. This method provides information on the mechanicaldeformation and adhesion of the scanned surfaces as well as con-\\nventional AFM topography [ 36]. Anodic structures were charac-\\nterized this way through obtaining ﬁve 20 lm/C220lm area scans\\nfrom each structure of interest. To realize objective comparison of\\nmaterial properties, constant peak force set point and amplitude of\\n15.32 nN and 150 nm, respectively, were used in each scan.\\nScanning Electron Microscopy (SEM) of the Printed Struc-\\ntures. The morphology of the printed anodic structures was\\nobserved through an environmental scanning electron microscope\\n(FEI, Hillsboro, OR, Quanta 200 F) in low vacuum mode.\\nInk Flow Model\\nTo understand the deposition mechanisms during DIW of vari-\\nous inks, we incorporated ink rheological properties and the\\nresults of the printed structure proﬁlometry to well-established\\nnon-Newtonian models for ink ﬂow through the printing system\\nshown in Fig. 1(c)and analyzed the pressure state at the nozzle')],\n",
       " 'question': 'What was the print temperature, speed, nozzle diameter?',\n",
       " 'answer': 'The print temperature was initially set to 45°C and later increased to 80°C for post-curing. The printing speed was a maximum of 180 mm/s, and the nozzle diameter used was 1.63 mm. Additionally, a 22 GA nozzle with an inner diameter of 0.41 mm was also mentioned for different printed architectures.'}"
      ]
     },
     "execution_count": 48,
     "metadata": {},
     "output_type": "execute_result"
    }
   ],
   "source": [
    "openai_rag_chain_with_source.invoke(\"What was the print temperature, speed, nozzle diameter?\")"
   ]
  },
  {
   "cell_type": "markdown",
   "metadata": {},
   "source": [
    "## RAG Steps\n",
    "\n",
    "1. Prepare data \n",
    "2. Create a vector store and insert into db\n",
    "3. Search the vector store and retrieve relevant documents\n",
    "4. Call LLM with the user query and the retrieved documents\n",
    "4. Return the LLM response to the user"
   ]
  }
 ],
 "metadata": {
  "kernelspec": {
   "display_name": "Python 3",
   "language": "python",
   "name": "python3"
  },
  "language_info": {
   "codemirror_mode": {
    "name": "ipython",
    "version": 3
   },
   "file_extension": ".py",
   "mimetype": "text/x-python",
   "name": "python",
   "nbconvert_exporter": "python",
   "pygments_lexer": "ipython3",
   "version": "3.12.0"
  }
 },
 "nbformat": 4,
 "nbformat_minor": 2
}
